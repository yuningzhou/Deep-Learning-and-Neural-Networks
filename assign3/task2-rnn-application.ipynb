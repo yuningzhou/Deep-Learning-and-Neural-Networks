{
 "cells": [
  {
   "cell_type": "markdown",
   "metadata": {
    "id": "raLwbLFaRvOR"
   },
   "source": [
    "### **Columbia University**\n",
    "### **ECBM E4040 Neural Networks and Deep Learning. Fall 2021.**"
   ]
  },
  {
   "cell_type": "markdown",
   "metadata": {
    "id": "JJCMCx6ISZZw"
   },
   "source": [
    "## **Task 2: RNN application -- Tweet Sentiment Analysis**"
   ]
  },
  {
   "cell_type": "markdown",
   "metadata": {
    "id": "u8wjQhNtSffW"
   },
   "source": [
    "In this task, you are going to classify the sentiment in tweets into positive and negative using an LSTM model. The code to load the data and see its characteristics has been provided to you. \n",
    "\n",
    "In the first task, you will encode the data using using one hot encoding and train an LSTM network to classify the sentiment. In the second task, you will replace the one hot encoding with an embedding layer and train another LSTM model. You will then extract the trained embeddings and visualize the word embeddings in 2 dimensions by using TSNE for dimenssionality redution. "
   ]
  },
  {
   "cell_type": "code",
   "execution_count": 1,
   "metadata": {
    "id": "UZ_G4XdfP7GK"
   },
   "outputs": [],
   "source": [
    "# Import modules\n",
    "from __future__ import print_function\n",
    "import tensorflow as tf\n",
    "import numpy as np\n",
    "import json\n",
    "import time\n",
    "import matplotlib.pyplot as plt\n",
    "import pickle\n",
    "\n",
    "%matplotlib inline\n",
    "\n",
    "%load_ext autoreload\n",
    "%autoreload 2"
   ]
  },
  {
   "cell_type": "markdown",
   "metadata": {
    "id": "6MjTYqMoN8fh"
   },
   "source": [
    "## Load Data\n"
   ]
  },
  {
   "cell_type": "code",
   "execution_count": 2,
   "metadata": {
    "colab": {
     "base_uri": "https://localhost:8080/"
    },
    "id": "F55EwI6RQl1A",
    "outputId": "1e087591-3dad-4471-97df-d9af9214dddb"
   },
   "outputs": [
    {
     "name": "stdout",
     "output_type": "stream",
     "text": [
      "size of original train set: 60000\n",
      "size of original test set: 20000\n",
      "****************************************************************************************************\n",
      "size of train set: 60000, #positive: 30055, #negative: 29945\n",
      "size of test set: 1000, #positive: 510, #negative: 490\n",
      "['it', 'will', 'help', 'relieve', 'your', 'stress', 'padtoken', 'padtoken', 'padtoken', 'padtoken', 'padtoken', 'padtoken', 'padtoken', 'padtoken', 'padtoken', 'padtoken', 'padtoken', 'padtoken', 'padtoken', 'padtoken']\n",
      "sentiment: positive\n"
     ]
    }
   ],
   "source": [
    "with open(\"./tweets_data/vocabulary.pkl\", \"rb\") as f:\n",
    "    vocabulary = pickle.load(f)\n",
    "\n",
    "# load our data and separate it into tweets and labels\n",
    "train_data = json.load(open('tweets_data/trainTweets_preprocessed.json', 'r'))\n",
    "train_data = list(map(lambda row:(np.array(row[0],dtype=np.int32),str(row[1])),train_data))\n",
    "train_tweets = np.array([t[0] for t in train_data])\n",
    "train_labels = np.array([int(t[1]) for t in train_data])\n",
    "\n",
    "test_data = json.load(open('tweets_data/testTweets_preprocessed.json', 'r'))\n",
    "test_data = list(map(lambda row:(np.array(row[0],dtype=np.int32),str(row[1])),test_data))\n",
    "test_tweets = np.array([t[0] for t in test_data])\n",
    "test_labels = np.array([int(t[1]) for t in test_data])\n",
    "\n",
    "print(\"size of original train set: {}\".format(len(train_tweets)))\n",
    "print(\"size of original test set: {}\".format(len(test_tweets)))\n",
    "\n",
    "# only select first 1000 test sample for test\n",
    "test_tweets = test_tweets[:1000]\n",
    "test_labels = test_labels[:1000]\n",
    "\n",
    "print(\"*\"*100)\n",
    "print(\"size of train set: {}, #positive: {}, #negative: {}\".format(len(train_tweets), np.sum(train_labels), len(train_tweets)-np.sum(train_labels)))\n",
    "print(\"size of test set: {}, #positive: {}, #negative: {}\".format(len(test_tweets), np.sum(test_labels), len(test_tweets)-np.sum(test_labels)))\n",
    "\n",
    "# show text of the idx-th train tweet\n",
    "# The 'padtoken' is used to ensure each tweet has the same length\n",
    "idx = 100\n",
    "train_text = [vocabulary[x] for x in train_tweets[idx]]\n",
    "print(train_text)\n",
    "sentiment_label = [\"negative\", \"positive\"]\n",
    "print(\"sentiment: {}\".format(sentiment_label[train_labels[idx]]))"
   ]
  },
  {
   "cell_type": "markdown",
   "metadata": {
    "id": "dmjy9sPDOCnY"
   },
   "source": [
    "## **Part 1 LSTM Encoder**\n",
    "\n",
    "**TODO**: Create a single-layer LSTM network to classify tweets. Use one hot encoding to represent each word in the tweet. Set LSTM units to 100. Use Adam optimizer and set batch size to 64.\n",
    "\n",
    "https://www.tensorflow.org/api_docs/python/tf/keras/layers/LSTM\n",
    "\n",
    "With these settings, what accuracy could you get? You can try to change some stuff in the network to see if you could get a better accuracy (this is optional). \n",
    "\n",
    "(tf.one_hot and Keras functional API may be useful)."
   ]
  },
  {
   "cell_type": "code",
   "execution_count": 3,
   "metadata": {
    "id": "-Mx6WgMBVI3T"
   },
   "outputs": [
    {
     "name": "stdout",
     "output_type": "stream",
     "text": [
      "Model: \"sequential\"\n",
      "_________________________________________________________________\n",
      "Layer (type)                 Output Shape              Param #   \n",
      "=================================================================\n",
      "lstm (LSTM)                  (None, 100)               440400    \n",
      "_________________________________________________________________\n",
      "dense (Dense)                (None, 1)                 101       \n",
      "=================================================================\n",
      "Total params: 440,501\n",
      "Trainable params: 440,501\n",
      "Non-trainable params: 0\n",
      "_________________________________________________________________\n",
      "Epoch 1/15\n",
      "938/938 [==============================] - 50s 51ms/step - loss: 0.5893 - accuracy: 0.6447\n",
      "Epoch 2/15\n",
      "938/938 [==============================] - 48s 51ms/step - loss: 0.5127 - accuracy: 0.7274\n",
      "Epoch 3/15\n",
      "938/938 [==============================] - 48s 51ms/step - loss: 0.4982 - accuracy: 0.7399\n",
      "Epoch 4/15\n",
      "938/938 [==============================] - 47s 51ms/step - loss: 0.4855 - accuracy: 0.7466\n",
      "Epoch 5/15\n",
      "938/938 [==============================] - 48s 52ms/step - loss: 0.4788 - accuracy: 0.7497\n",
      "Epoch 6/15\n",
      "938/938 [==============================] - 48s 51ms/step - loss: 0.4627 - accuracy: 0.7597\n",
      "Epoch 7/15\n",
      "938/938 [==============================] - 49s 52ms/step - loss: 0.4455 - accuracy: 0.7713\n",
      "Epoch 8/15\n",
      "938/938 [==============================] - 48s 51ms/step - loss: 0.4363 - accuracy: 0.7757\n",
      "Epoch 9/15\n",
      "938/938 [==============================] - 47s 51ms/step - loss: 0.4247 - accuracy: 0.7832\n",
      "Epoch 10/15\n",
      "938/938 [==============================] - 48s 51ms/step - loss: 0.4090 - accuracy: 0.7923\n",
      "Epoch 11/15\n",
      "938/938 [==============================] - 48s 51ms/step - loss: 0.3922 - accuracy: 0.8028\n",
      "Epoch 12/15\n",
      "938/938 [==============================] - 48s 51ms/step - loss: 0.3727 - accuracy: 0.8108\n",
      "Epoch 13/15\n",
      "938/938 [==============================] - 48s 51ms/step - loss: 0.3526 - accuracy: 0.8224\n",
      "Epoch 14/15\n",
      "938/938 [==============================] - 48s 51ms/step - loss: 0.3409 - accuracy: 0.8303\n",
      "Epoch 15/15\n",
      "938/938 [==============================] - 48s 51ms/step - loss: 0.3224 - accuracy: 0.8399\n"
     ]
    }
   ],
   "source": [
    "###################################################\n",
    "# TODO: Create a single-layer LSTM network.       #\n",
    "#                                                 #\n",
    "###################################################\n",
    "\n",
    "import tensorflow.keras as keras\n",
    "import tensorflow.keras.layers as layers\n",
    "\n",
    "train_onehot = tf.one_hot(train_tweets, 1000) # (60000,20,1000)\n",
    "test_onehot = tf.one_hot(test_tweets, 1000) # (1000,20,1000)\n",
    "\n",
    "model_1 = tf.keras.Sequential([\n",
    "    layers.LSTM(100, input_dim = 1000),\n",
    "    layers.Dense(1)\n",
    "])\n",
    "\n",
    "model_1.summary()\n",
    "\n",
    "model_1.compile(loss=tf.keras.losses.BinaryCrossentropy(from_logits=True),\n",
    "      optimizer='adam',\n",
    "      metrics=['accuracy'])\n",
    "\n",
    "history_LSTM = model_1.fit(train_onehot, train_labels, batch_size=64, epochs=15)\n",
    "\n",
    "###################################################\n",
    "# END TODO                                        #\n",
    "###################################################"
   ]
  },
  {
   "cell_type": "markdown",
   "metadata": {
    "id": "IBiLRGc7RL-g"
   },
   "source": [
    "## **Part 2: Embedding Lookup layer**\n",
    "\n",
    "**Define an embedding layer**\n",
    "\n",
    "It's not hard to imagine in the previous practices, the input we fed in are very sparse because each word was represented as a one-hot vector. This makes it difficult for the network to understand what story the input data is telling.\n",
    "\n",
    "Word embedding: instead of using a one-hot vector to represent each word, we can add an word embedding matrix in which each word is represented as a low-dimensional vector. Note that this representation is not sparse any more, because we're working in a continuous vector space now. Words that share similar/related semantic meaning should be 'close to each other' in this vector space (we could define a distance measure to estimate the closeness).\n",
    "\n",
    "**TODO**: Define a similar model as above with one change. Use an Embedding layer instead of one hot embedding. Also, write a custom training loop to train the model instead of using model.fit(). Writing a custom loop gives you complete control over how the model is trained. Refer to the link below.\n",
    "\n",
    "https://www.tensorflow.org/guide/keras/writing_a_training_loop_from_scratch\n",
    "\n",
    "Report loss and accuracy for training and validation after each epoch. Also, display the loss value after every 400 steps. \n",
    "\n",
    "Do you see any difference in accuracy? What about training time? What inference can you draw?\n"
   ]
  },
  {
   "cell_type": "markdown",
   "metadata": {
    "id": "FiDynRCc_mqN"
   },
   "source": [
    "Solution:"
   ]
  },
  {
   "cell_type": "code",
   "execution_count": 4,
   "metadata": {
    "id": "x2mkQlVMVUny"
   },
   "outputs": [
    {
     "name": "stdout",
     "output_type": "stream",
     "text": [
      "\n",
      "Start of epoch 0\n",
      "Current loss of training: 0.49504563212394714\n",
      "Current loss of training: 0.433331161737442\n",
      "Training loss - 0.5300, Training accuracy - 0.7318\n",
      "Test loss - 0.5001, Test accuracy - 0.7630\n",
      "\n",
      "Start of epoch 1\n",
      "Current loss of training: 0.5511115789413452\n",
      "Current loss of training: 0.534947395324707\n",
      "Training loss - 0.4590, Training accuracy - 0.7872\n",
      "Test loss - 0.5029, Test accuracy - 0.7710\n",
      "\n",
      "Start of epoch 2\n",
      "Current loss of training: 0.3989056348800659\n",
      "Current loss of training: 0.42975783348083496\n",
      "Current loss of training: 0.4777466952800751\n",
      "Training loss - 0.4313, Training accuracy - 0.8006\n",
      "Test loss - 0.5004, Test accuracy - 0.7670\n",
      "\n",
      "Start of epoch 3\n",
      "Current loss of training: 0.5002090930938721\n",
      "Current loss of training: 0.43928197026252747\n",
      "Training loss - 0.4043, Training accuracy - 0.8149\n",
      "Test loss - 0.5385, Test accuracy - 0.7580\n",
      "\n",
      "Start of epoch 4\n",
      "Current loss of training: 0.5521948933601379\n",
      "Current loss of training: 0.37663260102272034\n",
      "Training loss - 0.3748, Training accuracy - 0.8286\n",
      "Test loss - 0.5550, Test accuracy - 0.7700\n",
      "\n",
      "Start of epoch 5\n",
      "Current loss of training: 0.24962669610977173\n",
      "Current loss of training: 0.33465540409088135\n",
      "Current loss of training: 0.2463352531194687\n",
      "Training loss - 0.3427, Training accuracy - 0.8439\n",
      "Test loss - 0.5810, Test accuracy - 0.7580\n",
      "\n",
      "Start of epoch 6\n",
      "Current loss of training: 0.3138517141342163\n",
      "Current loss of training: 0.22727009654045105\n",
      "Training loss - 0.3139, Training accuracy - 0.8583\n",
      "Test loss - 0.6328, Test accuracy - 0.7540\n",
      "\n",
      "Start of epoch 7\n",
      "Current loss of training: 0.307674378156662\n",
      "Current loss of training: 0.19834527373313904\n",
      "Training loss - 0.2859, Training accuracy - 0.8725\n",
      "Test loss - 0.7658, Test accuracy - 0.7510\n",
      "\n",
      "Start of epoch 8\n",
      "Current loss of training: 0.23308011889457703\n",
      "Current loss of training: 0.32701948285102844\n",
      "Current loss of training: 0.2130429744720459\n",
      "Training loss - 0.2622, Training accuracy - 0.8817\n",
      "Test loss - 0.7244, Test accuracy - 0.7380\n",
      "\n",
      "Start of epoch 9\n",
      "Current loss of training: 0.23243530094623566\n",
      "Current loss of training: 0.18755975365638733\n",
      "Training loss - 0.2384, Training accuracy - 0.8936\n",
      "Test loss - 0.8224, Test accuracy - 0.7350\n"
     ]
    }
   ],
   "source": [
    "###################################################\n",
    "# TODO: Create a single-layer LSTM network        #\n",
    "#       using Embedding layer                     #\n",
    "###################################################\n",
    "\n",
    "\n",
    "model_2 = tf.keras.Sequential()\n",
    "model_2.add(layers.Embedding(np.max(train_tweets)+1, 64, input_length = 20, name = 'embedding'))\n",
    "model_2.add(layers.LSTM(100))\n",
    "model_2.add(layers.Dense(1, activation = 'sigmoid'))\n",
    "\n",
    "loss_function = tf.keras.losses.BinaryCrossentropy()\n",
    "optimizer = tf.keras.optimizers.Adam(lr = 1e-3, decay = 1e-5)\n",
    "epochs = 10\n",
    "batch_size = 64\n",
    "\n",
    "iterations = np.ceil(len(train_tweets)/batch_size).astype('int32')\n",
    "step = 0\n",
    "\n",
    "\n",
    "for epoch in range (epochs):\n",
    "    print(\"\\nStart of epoch %d\" % (epoch,))\n",
    "    index = np.arange(len(train_tweets))\n",
    "    np.random.shuffle(index)\n",
    "    sum_loss = 0\n",
    "    sum_acc = 0\n",
    "    \n",
    "    for i in range (iterations):\n",
    "        index_batch = index[i*batch_size:(i+1)*batch_size]\n",
    "        X_batch = train_tweets[index_batch,...]\n",
    "        y_batch = train_labels[index_batch, np.newaxis]\n",
    "        with tf.GradientTape() as tape:\n",
    "            y_pred = model_2(X_batch)\n",
    "            loss = loss_function(y_batch, y_pred)\n",
    "            accuracy = np.mean(y_batch == np.round(y_pred))\n",
    "            \n",
    "            gradients = tape.gradient(loss, model_2.trainable_weights)\n",
    "            optimizer.apply_gradients(zip(gradients, model_2.trainable_weights))\n",
    "            sum_loss += loss\n",
    "            sum_acc += accuracy\n",
    "        step += 1\n",
    "        if step == 400:\n",
    "            print(\"Current loss of training: {}\".format(loss))\n",
    "            step = 0\n",
    "    average_loss = sum_loss/ iterations\n",
    "    average_acc = sum_acc/ iterations\n",
    "    print(\"Training loss - {:.4f}, Training accuracy - {:.4f}\".format(average_loss, average_acc))\n",
    "    \n",
    "    y_pred_t = model_2(test_tweets)\n",
    "    y_test = test_labels[:,np.newaxis]\n",
    "    loss_t = loss_function(y_test,y_pred_t)\n",
    "    acc_t = np.mean(y_test == np.round(y_pred_t))\n",
    "    print(\"Test loss - {:.4f}, Test accuracy - {:.4f}\".format(loss_t, acc_t))\n",
    "\n",
    "\n",
    "###################################################\n",
    "# END TODO                                        #\n",
    "###################################################"
   ]
  },
  {
   "cell_type": "markdown",
   "metadata": {
    "id": "o9WYOKJtUwe5"
   },
   "source": [
    "## **TODO:**  **Visualize word vectors via tSNE**\n",
    "\n",
    "First, you need to retrieve embedding matrix from the network. Then use tSNE to reduce each low-dimensional word vector into a 2D vector.\n",
    "\n",
    "And then, you should visualize some interesting word pairs in 2D panel. You may find scatter function in matplotlib.pyplot useful.\n",
    "\n",
    "Hint: You can use TSNE tool provided in scikit-learn. And if you encounter dead kernel problem caused by \"Intel MKL FATAL ERROR: Cannot load libmkl_avx.so or libmkl_def.so\", please reinstall scikit-learn without MKL, ie., conda install nomkl numpy scipy scikit-learn numexpr.\n",
    "\n",
    "Here we provide some word pairs for you, like female-male or country-capital. And you can observe that these word-pair will look parallel with each other in a 2D tSNE panel. And you can find some other words and explore their relationship.\n",
    "\n",
    "The result for female-male pairs should look like, and you will observe that king-men and queen-women are parallel to each other in a 2D panel."
   ]
  },
  {
   "cell_type": "code",
   "execution_count": 3,
   "metadata": {},
   "outputs": [],
   "source": [
    "# load pre-trained word2vec embeddings\n",
    "import gensim\n",
    "from sklearn.manifold import TSNE\n",
    "import matplotlib.pyplot as plt\n",
    "\n",
    "model = gensim.models.KeyedVectors.load_word2vec_format('/home/ecbm4040/e4040-2021fall-assign3-yz3922/GoogleNews-vectors-negative300.bin.gz', binary=True)\n"
   ]
  },
  {
   "cell_type": "code",
   "execution_count": 6,
   "metadata": {},
   "outputs": [
    {
     "name": "stdout",
     "output_type": "stream",
     "text": [
      "['men', 'women', 'king', 'queen', 'spain', 'madrid', 'italy', 'rome', 'japan', 'tokyo']\n"
     ]
    }
   ],
   "source": [
    "female_male = [\"men\", \"women\", \"king\", \"queen\"]\n",
    "country_capital = [\"spain\", \"madrid\", \"italy\", \"rome\", \"japan\", \"tokyo\"]\n",
    "\n",
    "keys = female_male + country_capital\n",
    "print(keys)"
   ]
  },
  {
   "cell_type": "code",
   "execution_count": 9,
   "metadata": {},
   "outputs": [
    {
     "data": {
      "image/png": "[encoded data removed]",
      "text/plain": [
       "<Figure size 432x288 with 1 Axes>"
      ]
     },
     "metadata": {
      "needs_background": "light"
     },
     "output_type": "display_data"
    }
   ],
   "source": [
    "###################################################\n",
    "# TODO: Visualize word vectors using TSNE.        #\n",
    "#                                                 #\n",
    "###################################################\n",
    "\n",
    "def TSNE_visualize(model, keys):\n",
    "    \n",
    "    arr = np.empty((0,300), dtype='f')\n",
    "    key_labels = keys\n",
    "    for key in keys:\n",
    "        word_vector = model[key]\n",
    "        arr = np.append(arr, np.array([word_vector]), axis=0)\n",
    "        \n",
    "    # tsne coords\n",
    "    tsne = TSNE(n_components=2, random_state=0)\n",
    "    Y = tsne.fit_transform(arr)\n",
    "\n",
    "    # display scatter plot\n",
    "    plt.scatter(Y[:, 0], Y[:, 1])\n",
    "    for label, x, y in zip(word_labels, Y[:, 0], Y[:, 1]):\n",
    "        plt.annotate(label, xy=(x, y), xytext=(0, 0), textcoords='offset points')\n",
    "    plt.xlim(Y[:, 0].min()+0.00005, Y[:, 0].max()+0.00005)\n",
    "    plt.ylim(Y[:, 1].min()+0.00005, Y[:, 1].max()+0.00005)\n",
    "    plt.show()\n",
    "    \n",
    "TSNE_visualize(model,keys)\n",
    "###################################################\n",
    "# END TODO                                        #\n",
    "###################################################"
   ]
  },
  {
   "cell_type": "code",
   "execution_count": null,
   "metadata": {},
   "outputs": [],
   "source": []
  }
 ],
 "metadata": {
  "accelerator": "GPU",
  "colab": {
   "name": "Assignment_3_task_2_final.ipynb",
   "provenance": []
  },
  "kernelspec": {
   "display_name": "Python 3",
   "language": "python",
   "name": "python3"
  },
  "language_info": {
   "codemirror_mode": {
    "name": "ipython",
    "version": 3
   },
   "file_extension": ".py",
   "mimetype": "text/x-python",
   "name": "python",
   "nbconvert_exporter": "python",
   "pygments_lexer": "ipython3",
   "version": "3.6.9"
  }
 },
 "nbformat": 4,
 "nbformat_minor": 4
}

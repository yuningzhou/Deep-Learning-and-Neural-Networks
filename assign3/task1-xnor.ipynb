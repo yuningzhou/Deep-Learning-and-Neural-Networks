{
 "cells": [
  {
   "cell_type": "markdown",
   "metadata": {},
   "source": [
    "## Columbia University\n",
    "### ECBM E4040 Neural Networks and Deep Learning. Fall 2021."
   ]
  },
  {
   "cell_type": "markdown",
   "metadata": {},
   "source": [
    "# Task 1: XNOR"
   ]
  },
  {
   "cell_type": "code",
   "execution_count": 1,
   "metadata": {},
   "outputs": [
    {
     "name": "stdout",
     "output_type": "stream",
     "text": [
      "2.4.0\n"
     ]
    }
   ],
   "source": [
    "# Import modules\n",
    "from __future__ import print_function\n",
    "import tensorflow as tf\n",
    "\n",
    "physical_devices = tf.config.list_physical_devices('GPU')\n",
    "#tf.config.experimental.set_memory_growth(physical_devices[0], enable=True)\n",
    "\n",
    "import numpy as np\n",
    "from numpy.random import shuffle\n",
    "import time\n",
    "import matplotlib.pyplot as plt\n",
    "\n",
    "# Plot configurations\n",
    "%matplotlib inline\n",
    "\n",
    "# Notebook auto reloads code. (Ref: http://stackoverflow.com/questions/1907993/autoreload-of-modules-in-ipython)\n",
    "%load_ext autoreload\n",
    "%autoreload 2\n",
    "print(tf.__version__)"
   ]
  },
  {
   "cell_type": "markdown",
   "metadata": {},
   "source": [
    "##  Part 1: Backpropagation through time (BPTT)"
   ]
  },
  {
   "cell_type": "markdown",
   "metadata": {},
   "source": [
    "**Question:** Consider a simple RNN network shown in the following figure, where _wx, wh, b1, w, b2_ are the scalar parameters of the network. The loss function is the **mean squared error (MSE)**. Given input _(x1, x2) = (-1, 2)_, ground truth _(g1, g2) = (0, 1), h0 = 0, and (wx, wh, b1, w, b2) = (3, 1, 2, -1, 1)_, **compute _(dwx, dwh, db1, dw, db2)_**, which are the gradients of loss with repect to 5 parameters _(wx, wh, b1, w, b2)_.\n",
    "\n",
    "![bptt](./img/bptt2.jpg)"
   ]
  },
  {
   "cell_type": "markdown",
   "metadata": {},
   "source": [
    "<span style=\"color:red\">TODO:</span>\n",
    "\n",
    "Answer the above question. \n",
    "\n",
    "* Show all of your derivations and the computational process.\n",
    "* Use LATEX to edit the equations (Jupyter notebook can recognize the basic LATEX syntax). Alternatively, you can edit equations in some other environment and then paste the screenshot of the equations here."
   ]
  },
  {
   "cell_type": "markdown",
   "metadata": {},
   "source": [
    "<span style=\"color:red\">Solution:</span>\n",
    "\n",
    "**[\n",
    "$$h_1 = sigmoid(w_x * x_1 + w_h * h_0 + b_1) = 0.26894142137$$\n",
    "$$h_2 = sigmoid(w_x * x_2 + w_h * h_1 + b_1) = 0.99974370918$$ \\\n",
    "$$y_1 = sigmoid(w * h_1 + b_2) = 0.67503752737 $$\n",
    "$$y_2 = sigmoid(w * h_2 + b_2) = 0.5000640727 $$ \\\n",
    "$$dy_1 = \\frac{\\partial loss}{\\partial y_1} = 0.67503752737$$\n",
    "$$dy_2 = \\frac{\\partial loss}{\\partial y_2} = -0.4999359273$$\\\n",
    "$$\\frac{\\partial y_1}{\\partial w} = y_1 ( 1 - y_1) h_1 = 0.0589954915 $$ \n",
    "$$\\frac{\\partial y_2}{\\partial w} = y_2 ( 1 - y_2) h_2 = 0.24993592319 $$ \n",
    "$$ d w= dy_2 * \\frac{\\partial y_2}{\\partial w} + dy_1 * \\frac{\\partial y_1}{\\partial w} = -0.08512777681$$\\\n",
    "$$\\frac{\\partial y_1}{\\partial b_2} = y_1 ( 1 - y_1) = 0.21936186401 $$ \n",
    "$$\\frac{\\partial y_2}{\\partial b_2} = y_2 ( 1 - y_2) = 0.24999999589 $$  \n",
    "$$d b_2= dy_2 * \\frac{\\partial y_2}{\\partial b_2} + dy_1 * \\frac{\\partial y_1}{\\partial b_2} = 0.04380743154$$\\\n",
    "$$ dh_2 = y_2 * (1 - y_2) * w * dy_2 = 0.12498397977 $$\n",
    "$$ dh_1 = y_1 * (1 - y_1) * w * dy_1 + h_2 * (1- h_2) * w_h * dh_2 = -0.14807749028 + 0.00003202403 = -0.14804546625$$\\\n",
    "$$ dw_x = h_1 * (1 - h_1) * x_1 * dh_1 + h_2 * (1 - h_2) * x_2 * dh_2 = 0.0291715534 $$\n",
    "$$ dw_h = h_1 * (1 - h_1) * h_0 * dh_1 + h_2 * (1 - h_2) * h_1 * dh_2 = 0.00000861259 $$\n",
    "$$ db_1 = h_1 * (1 - h_1) * dh_1 + h_2 * (1 - h_2) * dh_2 = 0.02913952936$$\n",
    "]**"
   ]
  },
  {
   "cell_type": "code",
   "execution_count": 2,
   "metadata": {},
   "outputs": [
    {
     "name": "stdout",
     "output_type": "stream",
     "text": [
      "Verified by tensorflow (TODO compare values with your hand-written calculations):\n",
      "dw = -0.0851, db2 = 0.0231, dwx = 0.0292, dwh = 0.0000, db1 = -0.0291\n"
     ]
    }
   ],
   "source": [
    "# use tensorflow to verify the answer.\n",
    "with tf.GradientTape() as G:\n",
    "    w = tf.Variable(-1.0)\n",
    "    b2 = tf.Variable(1.0)\n",
    "    wx = tf.Variable(3.0)\n",
    "    wh = tf.Variable(1.0)\n",
    "    b1 = tf.Variable(2.0)\n",
    "\n",
    "    h0 = tf.Variable(0.0)\n",
    "    x = tf.Variable((-1.0,2.0))\n",
    "    g = tf.Variable((0.0, 1.0))\n",
    "\n",
    "    y = []\n",
    "    h1 = tf.sigmoid(wx*x[0] + wh*h0 + b1)\n",
    "    y.append(tf.sigmoid(w*h1 + b2))\n",
    "    h2 = tf.sigmoid(wx*x[1] + wh*h1 + b1)\n",
    "    y.append(tf.sigmoid(w*h2 + b2))\n",
    "\n",
    "    loss = 0.5*(tf.square(g[0]-y[0]) + tf.square(g[1]-y[1]))\n",
    "\n",
    "    dw_t, db2_t, dwx_t, dwh_t, db1_t = G.gradient(loss, [w, b2, wx, wh, b1])\n",
    "    \n",
    "\n",
    "print(\"Verified by tensorflow (TODO compare values with your hand-written calculations):\")\n",
    "print(\"dw = {:.4f}, db2 = {:.4f}, dwx = {:.4f}, dwh = {:.4f}, db1 = {:.4f}\".format(dw_t, db2_t, dwx_t, dwh_t, db1_t))"
   ]
  },
  {
   "cell_type": "markdown",
   "metadata": {},
   "source": [
    "## Part 2: Use TensorFlow modules to create XNOR network\n",
    "\n",
    "In this part, you need to build and train an XNOR network that can learn the XNOR function. It is a very simple implementation of RNN and will give you an idea how RNN is built and how to train it."
   ]
  },
  {
   "cell_type": "markdown",
   "metadata": {},
   "source": [
    "### XNOR network\n",
    "\n",
    "XNOR network can learn the XNOR ($\\odot$) function\n",
    "\n",
    "As shown in the figure below, and for instance, if input $(x_0, x_1, x_2, x_3, x_4, x_5, x_6, x_7)$=(0,0,1,1,1,1,1,0), then output $(y_1, y_2, y_3, y_4, y_5, y_6, y_7, y_8)$=(1,1,0,1,0,1,0,0). That is, $y_n = x_0\\odot x_1 \\odot ... \\odot x_{n-1}\\odot x_{n}$\n",
    "\n",
    "![xnor_net](./img/xnor.png)"
   ]
  },
  {
   "cell_type": "markdown",
   "metadata": {},
   "source": [
    "### Create a data set\n",
    "This function provides a way to generate the data which is needed for the training process. You should utilize it when building your training function for the GRU. Read the source code for more information."
   ]
  },
  {
   "cell_type": "code",
   "execution_count": 3,
   "metadata": {},
   "outputs": [],
   "source": [
    "from utils.xnor.dataset import create_xnor_dataset"
   ]
  },
  {
   "cell_type": "code",
   "execution_count": 4,
   "metadata": {},
   "outputs": [
    {
     "data": {
      "text/plain": [
       "(array([[[1],\n",
       "         [0],\n",
       "         [1],\n",
       "         [0],\n",
       "         [1],\n",
       "         [1],\n",
       "         [0],\n",
       "         [0]]]),\n",
       " array([[1, 1, 0, 0, 1, 0, 0, 0]]))"
      ]
     },
     "execution_count": 4,
     "metadata": {},
     "output_type": "execute_result"
    }
   ],
   "source": [
    "create_xnor_dataset(1)"
   ]
  },
  {
   "cell_type": "markdown",
   "metadata": {},
   "source": [
    "### Build a network using a TensorFlow LSTMCell and GRUCell\n",
    "In this section, you are asked to build a XNOR net using a TensorFlow LSTMCell and a GRUCell. In TensorFlow 2, these two cells are supported by Keras. Please check online documents below.\n",
    "\n",
    "Reference: \n",
    "1. [TensorFlow(Keras): Working with RNNs](https://keras.io/guides/working_with_rnns/)\n",
    "2. [TensorFlow: Recurrent Neural Networks (RNN) with Keras](https://www.tensorflow.org/guide/keras/rnn)\n",
    "3. [TensorFlow LSTM cell](https://www.tensorflow.org/api_docs/python/tf/keras/layers/LSTM)\n",
    "4. [TensorFlow GRU cell](https://www.tensorflow.org/api_docs/python/tf/keras/layers/GRU)\n",
    "5. [TensorFlow: Sequential Model](https://www.tensorflow.org/guide/keras/sequential_model)\n"
   ]
  },
  {
   "cell_type": "markdown",
   "metadata": {},
   "source": [
    "<span style=\"color:red\">TODO:</span>\n",
    "Use TensorFlow to build and train your XNOR net. The dataset is already provided. You will do the following:\n",
    "- Learn how to use **tf.keras.layers.LSTM** and **tf.keras.layers.GRU** in TensorFlow(Keras). \n",
    "- Choose appropriate parameters to build a model (Sequential Model in Keras is suggested). \n",
    "- Compile your model with appropriate loss function, optimizer, metrics, etc.\n",
    "- Train your model and see the loss history.\n",
    "\n",
    "Tips: \n",
    "1. Make sure that the shape of your data is corrrect after every step.\n",
    "2. Choose your loss function according to your network design.\n",
    "3. Choose 'accuracy' as your metrics when compiling your model.\n",
    "4. Make sure that names of history for the network with LSTMCell and GRUCell (which you used while training) are the same as the ones in the plotting functions.\n",
    "4. Feel free to ask TAs if you get stuck somewhere."
   ]
  },
  {
   "cell_type": "markdown",
   "metadata": {},
   "source": [
    "### Build a network with LSTM cell"
   ]
  },
  {
   "cell_type": "code",
   "execution_count": 5,
   "metadata": {
    "pycharm": {
     "is_executing": true
    }
   },
   "outputs": [],
   "source": [
    "in_data, out_data = create_xnor_dataset(1000) # create a dataset with a batch size of 1000"
   ]
  },
  {
   "cell_type": "code",
   "execution_count": 6,
   "metadata": {
    "pycharm": {
     "is_executing": true
    }
   },
   "outputs": [
    {
     "name": "stdout",
     "output_type": "stream",
     "text": [
      "Model: \"sequential\"\n",
      "_________________________________________________________________\n",
      "Layer (type)                 Output Shape              Param #   \n",
      "=================================================================\n",
      "lstm (LSTM)                  (None, 8, 1)              12        \n",
      "=================================================================\n",
      "Total params: 12\n",
      "Trainable params: 12\n",
      "Non-trainable params: 0\n",
      "_________________________________________________________________\n",
      "Epoch 1/15\n",
      "250/250 [==============================] - 2s 2ms/step - loss: 0.2838 - accuracy: 0.5099\n",
      "Epoch 2/15\n",
      "250/250 [==============================] - 0s 2ms/step - loss: 0.2302 - accuracy: 0.4879\n",
      "Epoch 3/15\n",
      "250/250 [==============================] - 0s 2ms/step - loss: 0.2120 - accuracy: 0.6166\n",
      "Epoch 4/15\n",
      "250/250 [==============================] - 0s 2ms/step - loss: 0.2077 - accuracy: 0.6424\n",
      "Epoch 5/15\n",
      "250/250 [==============================] - 0s 2ms/step - loss: 0.1999 - accuracy: 0.7112\n",
      "Epoch 6/15\n",
      "250/250 [==============================] - 0s 2ms/step - loss: 0.1975 - accuracy: 0.7221\n",
      "Epoch 7/15\n",
      "250/250 [==============================] - 1s 2ms/step - loss: 0.1887 - accuracy: 0.7204\n",
      "Epoch 8/15\n",
      "250/250 [==============================] - 0s 2ms/step - loss: 0.1706 - accuracy: 0.7858\n",
      "Epoch 9/15\n",
      "250/250 [==============================] - 0s 2ms/step - loss: 0.0829 - accuracy: 0.9909\n",
      "Epoch 10/15\n",
      "250/250 [==============================] - 0s 2ms/step - loss: 0.0470 - accuracy: 1.0000\n",
      "Epoch 11/15\n",
      "250/250 [==============================] - 0s 2ms/step - loss: 0.0361 - accuracy: 1.0000\n",
      "Epoch 12/15\n",
      "250/250 [==============================] - 0s 2ms/step - loss: 0.0311 - accuracy: 1.0000\n",
      "Epoch 13/15\n",
      "250/250 [==============================] - 0s 2ms/step - loss: 0.0277 - accuracy: 1.0000\n",
      "Epoch 14/15\n",
      "250/250 [==============================] - 0s 2ms/step - loss: 0.0255 - accuracy: 1.0000\n",
      "Epoch 15/15\n",
      "250/250 [==============================] - 0s 2ms/step - loss: 0.0237 - accuracy: 1.0000\n"
     ]
    }
   ],
   "source": [
    "###################################################\n",
    "# TODO: build a network with LSTM cell and train it.#\n",
    "#                                                 #\n",
    "###################################################\n",
    "import tensorflow.keras as keras\n",
    "import tensorflow.keras.layers as layers\n",
    "\n",
    "\n",
    "model_1 = tf.keras.Sequential()\n",
    "model_1.add(layers.LSTM(1,return_sequences=True, input_shape = [8,1]))\n",
    "model_1.summary()\n",
    "model_1.compile(loss = tf.keras.losses.MSE,\n",
    "                  optimizer = tf.keras.optimizers.Adam(lr = 0.01),\n",
    "                  metrics = ['accuracy'])\n",
    "history_LSTM = model_1.fit(in_data, out_data, batch_size=4, epochs=15)\n",
    "\n",
    "\n",
    "\n",
    "###################################################\n",
    "# END TODO                                        #\n",
    "###################################################"
   ]
  },
  {
   "cell_type": "markdown",
   "metadata": {},
   "source": [
    "#### Hint for creating a model with LSTM cells\n",
    "```\n",
    "model = tf.keras.Sequential() \n",
    "model.add(# insert layer 1)\n",
    "model.add(# insert layer 2) \n",
    "model.add(# insert more layers) \n",
    "model.add(# insert output layer)\n",
    "\n",
    "model.summary() \n",
    "model.compile(loss=#choose your loss function,\n",
    "              optimizer=#choose your optimizer with learning rate,\n",
    "              metrics=['accuracy']) \n",
    "history_LSTM = model.fit(in_data, out_data, batch_size=64, epochs=15) \n",
    "```"
   ]
  },
  {
   "cell_type": "markdown",
   "metadata": {},
   "source": [
    "### Build a network with GRU cell"
   ]
  },
  {
   "cell_type": "code",
   "execution_count": 7,
   "metadata": {},
   "outputs": [],
   "source": [
    "in_data, out_data = create_xnor_dataset(1000) # create a dataset with batch size of 1000"
   ]
  },
  {
   "cell_type": "code",
   "execution_count": 9,
   "metadata": {},
   "outputs": [
    {
     "name": "stdout",
     "output_type": "stream",
     "text": [
      "Model: \"sequential_2\"\n",
      "_________________________________________________________________\n",
      "Layer (type)                 Output Shape              Param #   \n",
      "=================================================================\n",
      "gru_1 (GRU)                  (None, 8, 1)              12        \n",
      "=================================================================\n",
      "Total params: 12\n",
      "Trainable params: 12\n",
      "Non-trainable params: 0\n",
      "_________________________________________________________________\n",
      "Epoch 1/15\n",
      "250/250 [==============================] - 1s 2ms/step - loss: 0.3177 - accuracy: 0.4894\n",
      "Epoch 2/15\n",
      "250/250 [==============================] - 0s 2ms/step - loss: 0.2427 - accuracy: 0.5477\n",
      "Epoch 3/15\n",
      "250/250 [==============================] - 0s 2ms/step - loss: 0.1870 - accuracy: 0.7056\n",
      "Epoch 4/15\n",
      "250/250 [==============================] - 0s 2ms/step - loss: 0.0071 - accuracy: 1.0000\n",
      "Epoch 5/15\n",
      "250/250 [==============================] - 0s 2ms/step - loss: 0.0030 - accuracy: 1.0000\n",
      "Epoch 6/15\n",
      "250/250 [==============================] - 0s 2ms/step - loss: 0.0018 - accuracy: 1.0000\n",
      "Epoch 7/15\n",
      "250/250 [==============================] - 0s 2ms/step - loss: 0.0012 - accuracy: 1.0000\n",
      "Epoch 8/15\n",
      "250/250 [==============================] - 0s 2ms/step - loss: 9.0337e-04 - accuracy: 1.0000\n",
      "Epoch 9/15\n",
      "250/250 [==============================] - 0s 2ms/step - loss: 6.8913e-04 - accuracy: 1.0000\n",
      "Epoch 10/15\n",
      "250/250 [==============================] - 0s 2ms/step - loss: 5.6351e-04 - accuracy: 1.0000\n",
      "Epoch 11/15\n",
      "250/250 [==============================] - 0s 2ms/step - loss: 4.4370e-04 - accuracy: 1.0000\n",
      "Epoch 12/15\n",
      "250/250 [==============================] - 0s 2ms/step - loss: 3.6034e-04 - accuracy: 1.0000\n",
      "Epoch 13/15\n",
      "250/250 [==============================] - 0s 2ms/step - loss: 3.0483e-04 - accuracy: 1.0000\n",
      "Epoch 14/15\n",
      "250/250 [==============================] - 0s 2ms/step - loss: 2.4104e-04 - accuracy: 1.0000\n",
      "Epoch 15/15\n",
      "250/250 [==============================] - 0s 2ms/step - loss: 2.0923e-04 - accuracy: 1.0000\n"
     ]
    }
   ],
   "source": [
    "###################################################\n",
    "# TODO: build a model with GRU cell and train it. #\n",
    "#                                                 #\n",
    "###################################################\n",
    "model_2 = keras.Sequential()\n",
    "model_2.add(layers.GRU(1,return_sequences=True, input_shape = [8,1]))\n",
    "model_2.summary()\n",
    "model_2.compile(loss = tf.keras.losses.MSE,\n",
    "                  optimizer = tf.keras.optimizers.Adam(lr = 0.01),\n",
    "                  metrics = ['accuracy'])\n",
    "history_GRU = model_2.fit(in_data, out_data, batch_size=4, epochs=15)\n",
    "\n",
    "###################################################\n",
    "# END TODO                                        #\n",
    "###################################################"
   ]
  },
  {
   "cell_type": "markdown",
   "metadata": {},
   "source": [
    "#### Hint for creating a model with GRU cell\n",
    "```\n",
    "model = tf.keras.Sequential()\n",
    "model.add(# insert layer 1)\n",
    "model.add(# insert layer 2)\n",
    "model.add(# insert more layers)\n",
    "model.add(# insert output layer)\n",
    "\n",
    "model.summary()\n",
    "model.compile(loss=#choose your loss function,\n",
    "              optimizer=#choose your optimizer with learning rate,\n",
    "              metrics=['accuracy'])\n",
    "history_GRU = model.fit(in_data, out_data, batch_size=64, epochs=15)\n",
    "```"
   ]
  },
  {
   "cell_type": "markdown",
   "metadata": {},
   "source": [
    "### Visualize loss and accuracy"
   ]
  },
  {
   "cell_type": "code",
   "execution_count": 10,
   "metadata": {},
   "outputs": [
    {
     "data": {
      "image/png": "[encoded data removed]",
      "text/plain": [
       "<Figure size 432x288 with 1 Axes>"
      ]
     },
     "metadata": {
      "needs_background": "light"
     },
     "output_type": "display_data"
    }
   ],
   "source": [
    "plt.plot(history_LSTM.history['loss'], label='LSTM')\n",
    "plt.plot(history_GRU.history['loss'], label='GRU')\n",
    "plt.title('LSTM/GRU loss')\n",
    "plt.ylabel('loss')\n",
    "plt.xlabel('No. epoch')\n",
    "plt.legend(loc=\"upper left\")\n",
    "plt.show()"
   ]
  },
  {
   "cell_type": "code",
   "execution_count": 11,
   "metadata": {},
   "outputs": [
    {
     "data": {
      "image/png": "[encoded data removed]",
      "text/plain": [
       "<Figure size 432x288 with 1 Axes>"
      ]
     },
     "metadata": {
      "needs_background": "light"
     },
     "output_type": "display_data"
    }
   ],
   "source": [
    "plt.plot(history_LSTM.history['accuracy'], label='LSTM')\n",
    "plt.plot(history_GRU.history['accuracy'], label='GRU')\n",
    "plt.title('LSTM/GRU accuracy')\n",
    "plt.ylabel('accuracy')\n",
    "plt.xlabel('No. epoch')\n",
    "plt.legend(loc=\"upper left\")\n",
    "plt.show()"
   ]
  },
  {
   "cell_type": "markdown",
   "metadata": {},
   "source": [
    "<span style=\"color:red\">__TODO:__</span> Answer the question:"
   ]
  },
  {
   "cell_type": "markdown",
   "metadata": {},
   "source": [
    "Which part of this task have you been struggling with most of the  time? Describe how you resolved it."
   ]
  },
  {
   "cell_type": "markdown",
   "metadata": {},
   "source": [
    "<span style=\"color:red\">__SOLUTION:__</span>\n",
    "**[The most struggling part is the input and output data size not match. Resolved it by checking the online documents. ]**"
   ]
  },
  {
   "cell_type": "markdown",
   "metadata": {},
   "source": []
  },
  {
   "cell_type": "markdown",
   "metadata": {},
   "source": [
    "<span style=\"color:red\">__TODO:__</span> Answer the question:"
   ]
  },
  {
   "cell_type": "markdown",
   "metadata": {},
   "source": [
    "Which loss function did you use? Why?"
   ]
  },
  {
   "cell_type": "markdown",
   "metadata": {},
   "source": [
    "<span style=\"color:red\">__SOLUTION:__</span>\n",
    "\n",
    "**[I used the MSE i.e. L2 norm loss function. This selection has its reason for it being a more universally used and fundamental function to use. But cross entropy could also be a good choice. ]**"
   ]
  },
  {
   "cell_type": "markdown",
   "metadata": {},
   "source": []
  },
  {
   "cell_type": "markdown",
   "metadata": {},
   "source": [
    "## Part 3 :  Build your own LSTMCell\n",
    "In this part, you need to build your own LSTM cell to achieve the LSTM functionality (including different types of gates that constitute the cell).\n",
    "\n",
    "You should refer to the materials on how the LSTM cell works  - with its cell states, activation functions and kernels. \n",
    "<br>Please see the course slides or the website https://colah.github.io/posts/2015-08-Understanding-LSTMs/.\n",
    "\n",
    "<span style=\"color:red\">TODO:</span> \n",
    "1. Complete the function **LSTM_step** in utils/xnor/LSTM_step.py;\n",
    "2. Verify the function by running the provided code.\n",
    "3. Use the same way (as described above) to build the model and to train it.\n"
   ]
  },
  {
   "cell_type": "code",
   "execution_count": 12,
   "metadata": {},
   "outputs": [
    {
     "name": "stdout",
     "output_type": "stream",
     "text": [
      "Simple verification:\n",
      "Is h correct? True\n",
      "Is c correct? True\n"
     ]
    }
   ],
   "source": [
    "from utils.xnor.LSTM_step import LSTM_step\n",
    "\n",
    "cell_inputs = np.ones((1,1))\n",
    "cell_states = [0.2*np.ones((1,64)), np.zeros((1,64))]\n",
    "kernel = 0.1*np.ones((1,256))\n",
    "recurrent_kernel = 0.1*np.ones((64,256))\n",
    "bias = np.zeros(256)\n",
    "\n",
    "h , [h,c] = LSTM_step(cell_inputs, cell_states, kernel, recurrent_kernel, bias)\n",
    "print('Simple verification:')\n",
    "print('Is h correct?', np.isclose(h.numpy()[0][0],0.48484358))\n",
    "print('Is c correct?', np.isclose(c.numpy()[0][0],0.70387213))"
   ]
  },
  {
   "cell_type": "code",
   "execution_count": 13,
   "metadata": {},
   "outputs": [],
   "source": [
    "in_data, out_data = create_xnor_dataset(1000)# create a dataset with a batch size of 1000"
   ]
  },
  {
   "cell_type": "code",
   "execution_count": 14,
   "metadata": {},
   "outputs": [
    {
     "name": "stdout",
     "output_type": "stream",
     "text": [
      "Model: \"sequential_3\"\n",
      "_________________________________________________________________\n",
      "Layer (type)                 Output Shape              Param #   \n",
      "=================================================================\n",
      "lstm_1 (LSTM)                (None, 8, 1)              12        \n",
      "=================================================================\n",
      "Total params: 12\n",
      "Trainable params: 12\n",
      "Non-trainable params: 0\n",
      "_________________________________________________________________\n",
      "Epoch 1/15\n",
      "125/125 [==============================] - 1s 2ms/step - loss: 0.3469 - accuracy: 0.4932\n",
      "Epoch 2/15\n",
      "125/125 [==============================] - 0s 2ms/step - loss: 0.2546 - accuracy: 0.4809\n",
      "Epoch 3/15\n",
      "125/125 [==============================] - 0s 2ms/step - loss: 0.2413 - accuracy: 0.4686\n",
      "Epoch 4/15\n",
      "125/125 [==============================] - 0s 2ms/step - loss: 0.2340 - accuracy: 0.5627\n",
      "Epoch 5/15\n",
      "125/125 [==============================] - 0s 2ms/step - loss: 0.2273 - accuracy: 0.5706\n",
      "Epoch 6/15\n",
      "125/125 [==============================] - 0s 2ms/step - loss: 0.2101 - accuracy: 0.6743\n",
      "Epoch 7/15\n",
      "125/125 [==============================] - 0s 2ms/step - loss: 0.1564 - accuracy: 0.8338\n",
      "Epoch 8/15\n",
      "125/125 [==============================] - 0s 2ms/step - loss: 0.0749 - accuracy: 1.0000\n",
      "Epoch 9/15\n",
      "125/125 [==============================] - 0s 2ms/step - loss: 0.0504 - accuracy: 1.0000\n",
      "Epoch 10/15\n",
      "125/125 [==============================] - 0s 2ms/step - loss: 0.0428 - accuracy: 1.0000\n",
      "Epoch 11/15\n",
      "125/125 [==============================] - 0s 2ms/step - loss: 0.0393 - accuracy: 1.0000\n",
      "Epoch 12/15\n",
      "125/125 [==============================] - 0s 2ms/step - loss: 0.0374 - accuracy: 1.0000\n",
      "Epoch 13/15\n",
      "125/125 [==============================] - 0s 2ms/step - loss: 0.0361 - accuracy: 1.0000\n",
      "Epoch 14/15\n",
      "125/125 [==============================] - 0s 2ms/step - loss: 0.0343 - accuracy: 1.0000\n",
      "Epoch 15/15\n",
      "125/125 [==============================] - 0s 2ms/step - loss: 0.0337 - accuracy: 1.0000\n"
     ]
    }
   ],
   "source": [
    "###################################################\n",
    "# TODO: build a model with LSTM cell and train it.#\n",
    "#                                                 #\n",
    "###################################################\n",
    "\n",
    "model = tf.keras.Sequential()\n",
    "model.add(layers.LSTM(1, input_shape=(8, 1), return_sequences=True))\n",
    "model.summary()\n",
    "model.compile(loss=tf.keras.losses.MSE,\n",
    "              optimizer=tf.keras.optimizers.Adam(lr = 0.01),\n",
    "              metrics=['accuracy'])\n",
    "history = model.fit(in_data, out_data, batch_size=8, epochs=15)\n",
    "\n",
    "\n",
    "\n",
    "###################################################\n",
    "# END TODO                                        #\n",
    "###################################################"
   ]
  },
  {
   "cell_type": "markdown",
   "metadata": {},
   "source": [
    "#### Hint for building a model with LSTM cell\n",
    "```\n",
    "model = tf.keras.Sequential()\n",
    "model.add(# insert layer 1)\n",
    "model.add(# insert layer 2)\n",
    "model.add(# insert more layers)\n",
    "model.add(# insert output layer)\n",
    "\n",
    "model.summary()\n",
    "model.compile(loss=#choose your loss function,\n",
    "              optimizer=#choose your optimizer with learning rate,\n",
    "              metrics=['accuracy'])\n",
    "history = model.fit(in_data, out_data, batch_size=64, epochs=15)\n",
    "```"
   ]
  },
  {
   "cell_type": "markdown",
   "metadata": {},
   "source": [
    "### Visualize loss and accuracy"
   ]
  },
  {
   "cell_type": "code",
   "execution_count": 15,
   "metadata": {},
   "outputs": [
    {
     "data": {
      "image/png": "[encoded data removed]",
      "text/plain": [
       "<Figure size 432x288 with 1 Axes>"
      ]
     },
     "metadata": {
      "needs_background": "light"
     },
     "output_type": "display_data"
    }
   ],
   "source": [
    "plt.plot(history.history['loss'], label='loss')\n",
    "plt.plot(history.history['accuracy'], label='accuracy')\n",
    "plt.title('Training history')\n",
    "plt.ylabel('value')\n",
    "plt.xlabel('No. epoch')\n",
    "plt.legend(loc=\"upper left\")\n",
    "plt.show()"
   ]
  },
  {
   "cell_type": "code",
   "execution_count": null,
   "metadata": {},
   "outputs": [],
   "source": []
  }
 ],
 "metadata": {
  "kernelspec": {
   "display_name": "Python 3",
   "language": "python",
   "name": "python3"
  },
  "language_info": {
   "codemirror_mode": {
    "name": "ipython",
    "version": 3
   },
   "file_extension": ".py",
   "mimetype": "text/x-python",
   "name": "python",
   "nbconvert_exporter": "python",
   "pygments_lexer": "ipython3",
   "version": "3.6.9"
  }
 },
 "nbformat": 4,
 "nbformat_minor": 4
}

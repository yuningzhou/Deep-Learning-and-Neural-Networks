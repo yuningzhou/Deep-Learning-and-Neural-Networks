{
  "nbformat": 4,
  "nbformat_minor": 0,
  "metadata": {
    "colab": {
      "name": "Assignment 0.ipynb",
      "provenance": [],
      "collapsed_sections": []
    },
    "kernelspec": {
      "display_name": "Python 3",
      "language": "python",
      "name": "python3"
    },
    "language_info": {
      "codemirror_mode": {
        "name": "ipython",
        "version": 3
      },
      "file_extension": ".py",
      "mimetype": "text/x-python",
      "name": "python",
      "nbconvert_exporter": "python",
      "pygments_lexer": "ipython3",
      "version": "3.6.9"
    }
  },
  "cells": [
    {
      "cell_type": "markdown",
      "metadata": {
        "id": "BckUOSXHptwv"
      },
      "source": [
        "## ECBM E4040 Neural Networks and Deep Learning \n",
        "### Columbia University, Fall 2021."
      ]
    },
    {
      "cell_type": "markdown",
      "metadata": {
        "id": "OTCbBGu2ptwz"
      },
      "source": [
        "# ECBM E4040 - Assignment 0 "
      ]
    },
    {
      "cell_type": "markdown",
      "metadata": {
        "id": "0ybyMSAPptw2"
      },
      "source": [
        "The assignment is distributed as a Jupyter notebook called Assignment 0.ipynb from a Github repository (or as a zip file).  Additional instructions and support material for the assignment can be found in file README.md which comes with the assignment and in a set of webpages under https://ecbme4040.github.io/2021_fall/index.html. The assignment uses TensorFlow version 2.4. \n",
        "\n",
        "The simplest way to initially see the content of the jupyter notebook file Assignment 0.ipynb is to use Google Colab in the cloud: (i) Use your UNI@columbia.edu account to log into Colab (https://colab.research.google.com/notebooks/intro.ipynb); (ii) Upload Assignment 0.ipynb, explore and run the file. \n",
        "\n",
        "For students who are formally registered into this class at the end of the add/drop period, the assignment requires that students complete the tasks from this Jupyter Notebook while running it on the Google Cloud (GCP) custom image (not Colab, Colab is only a temporary execution method).\n",
        "\n",
        "Detailed instructions how to submit this assignement/homework will be posted after the add/drop period."
      ]
    },
    {
      "cell_type": "markdown",
      "metadata": {
        "id": "erLmkACPptw4"
      },
      "source": [
        "## Welcome to ECBM E4040 Neural Networks & Deep Learning \n",
        "\n",
        "This course teaches theory, concepts, modelling and programming techniques. The assignments are focused on practical coding for creating, testing and running deep learning models.\n",
        "\n",
        "The __Assignment 0__ introduces our programming environment and tools, and basic TensorFlow operations.\n",
        "\n",
        "The assignment consists of the following components:\n",
        "* Programming environment setup - Google Compute Engine/local machine, Python, TensorFlow.\n",
        "* Using Jupyter Notebook\n",
        "* TensorFlow basics\n",
        "* A demo of a program written in TensorFlow\n",
        "\n",
        "<p style='color:red'>Cells marked with <strong>'TODO'</strong> need to be completed by students, as a part of the assignment.</p>\n",
        "\n",
        "Please consult TAs or post your problems/issues on the Piazza site."
      ]
    },
    {
      "cell_type": "markdown",
      "metadata": {
        "id": "H9x7wOPtptw6"
      },
      "source": [
        "## Part 1 - Setting up the Programming Environment\n",
        "\n",
        "For this course, we use __Python__ as the programming language, and [__TensorFlow__](https://www.tensorflow.org) as the deep learning framework. \n",
        "\n",
        "Our course website (https://ecbme4040.github.io/) provides a number of tutorials:\n",
        "* Local Environment Setup\n",
        "* Google Compute Engine (GCE) Setup on the Google Cloud Platform (GCP)\n",
        "* Python Tutorial\n",
        "* TensorFlow Tutorial\n",
        "* Linux Tutorial\n",
        "* Git Commands\n",
        "* Google Colab"
      ]
    },
    {
      "cell_type": "markdown",
      "metadata": {
        "id": "lMsvsV_oSw0C"
      },
      "source": [
        "<p style='color:red'><strong>TODO:</strong></p>\n",
        "\n",
        "This list shows the big picure for what students need to do to complete the assignment. Later cells in this Jupyter notebook describe the details of the operations that need to be executed as TODO items.\n",
        "\n",
        "* Create an account on Github, and familiarize yourself both with git operations and with Github \n",
        "\n",
        "* Execute Assignement0.ipynb in Colab: Fetch the Assignement0.ipynb file (from Github), upload it to Google Colab, and execute it inside the Colab environment. To do this, you need to understand python, and the operation of jupyter notebooks. This step is useful for a quick first execution. Keep the modified Jupyter notebook with your solutions.\n",
        "\n",
        "* Create your own Google Cloud project and virtual machine (VM) instance in the Google Cloud Platform, by following the tutorial on Google Compute Engine (GCE) Setup. This will be the main and the required mode of operation for all future assignments. Note: working with Google Cloud requires funding - you can initially use the $300 that everyone gets from Google, after the add/drop period you will be given codes/coupons from the instructors.\n",
        "\n",
        "* Execute (again) the Assignment0.ipynb within your VM in the Google Cloud. Save the resulting Jupyter Notebook. Take screenshots of the VM instance from the Google Cloud project dashboard. Take a screenshot of the Jupyter notebook when launched from google cloud. The screenshots will need to be submitted as a part of the homework to document that you have successfully launched a cloud instance. The modified Jupyter notebook which contains the populate \"TODO/SOLUTIONS\" portions of the code needs to be submitted.\n",
        "\n",
        "* __(Optional)__ Set up your local laptop deep learning environment, following the tutorial on the Local Environment Setup. Since the use of Google Cloud requires funding, it is often useful to debug your code locally on a laptop, and to run it remotely in Google Cloud VM.\n",
        "\n",
        "* __(Optional)__ Knowledge of Python, Linux and Git operations are needed for this course. Doing the tutorials is optional, depending on your prior knowledge of these topics.\n",
        "\n",
        "* __(Optional)__ Tutorials on TensorFlow are extensive. As you progress with this course, they are an excellent complement to our class."
      ]
    },
    {
      "cell_type": "markdown",
      "metadata": {
        "id": "h0-p84qHptw8"
      },
      "source": [
        "## Part 2 - How to use Jupyter Notebook - Basics\n",
        "\n",
        "Jupyter Notebook is an interactive Python programming interface. Jupyter Notebook files have a postfix _.ipynb_, and each file is made up of several blocks of code which are called __cells__. Each cell can be configured as a __coding cell__ or a __Markdown text cell__. Google colab is the easiest installation-free platform to run and familiarize oneself with Jupyter Notebook operations.\n",
        "\n",
        "Basic instructions:\n",
        "\n",
        "* The menu bars are located on the top of a notebook.\n",
        "* To execute a cell, select it, and press `ctrl+Enter`. (You may also try `shift+Enter` and `alt+Enter` to see the difference).\n",
        "* To switch between code and Markdown, select a cell, and select the mode you want in the dropdown menu in the menu bar.\n",
        "\n",
        "A full guide to Jupyter Notebook can be accessed in the _Help_ menu in the menu bar. \n"
      ]
    },
    {
      "cell_type": "code",
      "metadata": {
        "colab": {
          "base_uri": "https://localhost:8080/"
        },
        "id": "ih8-yaIcptw-",
        "outputId": "7cdb0224-6622-4f50-9d33-844b1ac58109"
      },
      "source": [
        "# To test that you understand how to use a coding cell, make this cell output a string 'Hello Jupyter!'. \n",
        "# We've written the code, all you need to do is to execute it.\n",
        "print('Hello Jupyter!')"
      ],
      "execution_count": 2,
      "outputs": [
        {
          "output_type": "stream",
          "name": "stdout",
          "text": [
            "Hello Jupyter!\n"
          ]
        }
      ]
    },
    {
      "cell_type": "markdown",
      "metadata": {
        "id": "HHIrOHgHptxN"
      },
      "source": [
        "## Part 3 - TensorFlow Basics\n",
        "\n",
        "TensorFlow is one of the most popular deep learning frameworks. Originally created by Google, it has received a lot of community support. TensorFlow versions before v2.0 (until summer 2019) contained a number of detailed functions for construction of deep learning (neural network) models, and relied on a two-step process for model creation and execution. \n",
        "TensorFlow versions 2.0 and beyond focus on simplicity and ease of use, with updates like eager execution, intuitive Keras-based higher-level APIs, and flexible model building on any platform.\n",
        "\n",
        "In this part, we look at some basic TensorFlow concepts and operations."
      ]
    },
    {
      "cell_type": "code",
      "metadata": {
        "colab": {
          "base_uri": "https://localhost:8080/"
        },
        "id": "ZA_ETQgWSw0N",
        "outputId": "f2bcc7d0-e7e7-43cb-d80d-3a015c5af7a9"
      },
      "source": [
        "# This cell installs matplotlib tool, directly from Jupyter Notebook. \n",
        "# Run this cell just once after removing the '#' sign before the command.\n",
        "#!pip install --upgrade matplotlib\n",
        "print(\"matplotlib installed\")"
      ],
      "execution_count": 3,
      "outputs": [
        {
          "output_type": "stream",
          "name": "stdout",
          "text": [
            "matplotlib installed\n"
          ]
        }
      ]
    },
    {
      "cell_type": "code",
      "metadata": {
        "colab": {
          "base_uri": "https://localhost:8080/"
        },
        "id": "Zfw8_AOlptxP",
        "outputId": "08aef44b-b0b9-4896-f2eb-0432eb0aeef9"
      },
      "source": [
        "# Activating TensorFlow in Jupyter Notebook\n",
        "\n",
        "# Disable some warnings, to simplify the output when running the cells\n",
        "import warnings\n",
        "warnings.simplefilter(action='ignore', category=FutureWarning)\n",
        "import numpy as np\n",
        "\n",
        "# Import the TensorFlow module\n",
        "import tensorflow as tf\n",
        "\n",
        "print('TensorFlow Version = {}'.format(tf.__version__))\n",
        "\n",
        "# The following modules will be used in later parts of the assignment.\n",
        "# Make sure that you install the latest version of numpy and matploblib \n",
        "#(inside your conda workspace). Alternativelly, inside your virtual environment, use \"conda install numpy\" \n",
        "# and \"conda install matploblib\" and restart the jupyter notebook. \n",
        "import numpy as np\n",
        "# import input_data\n",
        "%matplotlib inline\n",
        "from matplotlib import pyplot as plt\n",
        "import time"
      ],
      "execution_count": 4,
      "outputs": [
        {
          "output_type": "stream",
          "name": "stdout",
          "text": [
            "TensorFlow Version = 2.6.0\n"
          ]
        }
      ]
    },
    {
      "cell_type": "markdown",
      "metadata": {
        "id": "xqIRW2wcptxY"
      },
      "source": [
        "#### 1. Use of string constant with TensorFlow"
      ]
    },
    {
      "cell_type": "markdown",
      "metadata": {
        "id": "FxB4Oqtvptxa"
      },
      "source": [
        "In TensorFlow 2.0 the concept of sessions (as in versions before 2.0) has ben deprecated. Now, variables are accessible instantly (as compared to after sess.run), making this flow \"more pythonic in style\"."
      ]
    },
    {
      "cell_type": "code",
      "metadata": {
        "colab": {
          "base_uri": "https://localhost:8080/"
        },
        "id": "sGS6SiZJptxc",
        "outputId": "d49dc5a5-6042-4adf-a0a4-db8b1d9c0c35"
      },
      "source": [
        "# Example\n",
        "# Define a string constant\n",
        "string = tf.constant('Hello TensorFlow!')\n",
        "tf.print(string)"
      ],
      "execution_count": 5,
      "outputs": [
        {
          "output_type": "stream",
          "name": "stdout",
          "text": [
            "Hello TensorFlow!\n"
          ]
        }
      ]
    },
    {
      "cell_type": "markdown",
      "metadata": {
        "id": "IE5Yd4Oeptxl"
      },
      "source": [
        "<p style='color:red'><strong>TODO:</strong></p>"
      ]
    },
    {
      "cell_type": "markdown",
      "metadata": {
        "id": "T4Y9UjDmebdo"
      },
      "source": [
        "Follow the example above and use TensorFlow to output the string 'YOUR_NAME:YOUR_UNI'. "
      ]
    },
    {
      "cell_type": "markdown",
      "metadata": {
        "id": "YlQaSaBwSw0e"
      },
      "source": [
        "<p style='color:red'><strong>SOLUTION (enter in the empty cell below):</strong></p>"
      ]
    },
    {
      "cell_type": "code",
      "metadata": {
        "colab": {
          "base_uri": "https://localhost:8080/"
        },
        "id": "EQyU_6EBLPBI",
        "outputId": "2f8b27f5-d144-4955-e5e6-ee25087445a7"
      },
      "source": [
        "string1 = tf.constant('Yuning_Zhou:yz3922')\n",
        "tf.print(string1)"
      ],
      "execution_count": 6,
      "outputs": [
        {
          "output_type": "stream",
          "name": "stdout",
          "text": [
            "Yuning_Zhou:yz3922\n"
          ]
        }
      ]
    },
    {
      "cell_type": "markdown",
      "metadata": {
        "id": "LSBsfBIQptx3"
      },
      "source": [
        "#### 2. Basic math in TensorFlow"
      ]
    },
    {
      "cell_type": "code",
      "metadata": {
        "colab": {
          "base_uri": "https://localhost:8080/"
        },
        "id": "Gy6l7PvLptx4",
        "outputId": "01dbf828-0404-45b2-9ae2-088a5b9255f9"
      },
      "source": [
        "# Example\n",
        "\n",
        "# Define 2 constant nodes. It is a good habit to name your nodes. \n",
        "# The name of the nodes will appear in the TensorBoard graph.\n",
        "a = tf.constant(10, dtype=tf.float32, name='a')\n",
        "b = tf.constant(20, dtype=tf.float32, name='b')\n",
        "\n",
        "# Addition and subtraction\n",
        "add = tf.add(a, b, name='add') # same as a+b\n",
        "sub = tf.subtract(a, b, name='sub') # same as a-b\n",
        "\n",
        "# There is no need for the session to run these operations (as in TensorFlow 1.*)\n",
        "tf.print(\"a:\", a)\n",
        "tf.print(\"b:\", b)\n",
        "tf.print(\"addition:\", add)\n",
        "tf.print(\"subtraction:\", sub)"
      ],
      "execution_count": 7,
      "outputs": [
        {
          "output_type": "stream",
          "name": "stdout",
          "text": [
            "a: 10\n",
            "b: 20\n",
            "addition: 30\n",
            "subtraction: -10\n"
          ]
        }
      ]
    },
    {
      "cell_type": "markdown",
      "metadata": {
        "id": "-BKpajYGptx-"
      },
      "source": [
        "<p style='color:red'><strong>TODO:</strong></p>"
      ]
    },
    {
      "cell_type": "code",
      "metadata": {
        "id": "9qEfh9YOptyA"
      },
      "source": [
        "# Visit https://www.tensorflow.org/api_guides/python/math_ops \n",
        "# Find proper operations to calculate \n",
        "# a*b (multiplication), a/b (division), a^b (power) and log(a) (natural logarithm),\n",
        "# and demonstrate their uses by printing their results.\n",
        "# (Note: 'a' and 'b' are defined in the previous cell, you should use them directly.)"
      ],
      "execution_count": null,
      "outputs": []
    },
    {
      "cell_type": "markdown",
      "metadata": {
        "id": "07VHHDK8Sw0n"
      },
      "source": [
        "<p style='color:red'><strong>SOLUTION (enter in the empty cell below):</strong></p>"
      ]
    },
    {
      "cell_type": "code",
      "metadata": {
        "colab": {
          "base_uri": "https://localhost:8080/"
        },
        "id": "zRi2P-IqSw0n",
        "outputId": "4c28eb96-2677-4a70-dbda-c29b270c62f9"
      },
      "source": [
        "multiplication = tf.multiply(a, b, name='multiplcation')\n",
        "division = tf.divide(a, b, name='division')\n",
        "power = tf.pow(a, b, name='power')\n",
        "logarithm = tf.math.log(a, name='logarithm')\n",
        "\n",
        "tf.print(\"multiplication:\", multiplication)\n",
        "tf.print(\"division:\", division)\n",
        "tf.print(\"power:\", power)\n",
        "tf.print(\"natural logarithm:\", logarithm)"
      ],
      "execution_count": 8,
      "outputs": [
        {
          "output_type": "stream",
          "name": "stdout",
          "text": [
            "multiplication: 200\n",
            "division: 0.5\n",
            "power: 1e+20\n",
            "natural logarithm: 2.30258512\n"
          ]
        }
      ]
    },
    {
      "cell_type": "markdown",
      "metadata": {
        "id": "AUY_auy5ptyF"
      },
      "source": [
        "#### 3. Constant tensor, sequences and random numbers in TensorFlow"
      ]
    },
    {
      "cell_type": "code",
      "metadata": {
        "colab": {
          "base_uri": "https://localhost:8080/"
        },
        "id": "eJH7b1ZLptyG",
        "outputId": "3e7498ff-735f-4586-c3e1-001aa62357ff"
      },
      "source": [
        "# In TensorFlow, a tensor is an n-dimensional array. \n",
        "# 0-d tensor is a scalar. 1-d tensor is a vector, and so on.\n",
        "\n",
        "# We can use TF functions to create all-zero and all-one tensors.\n",
        "zero_array = tf.zeros(shape=[2,3], dtype=tf.float32, name='zero_array')\n",
        "one_array = tf.ones(shape=[2,3], dtype=tf.float32, name='one_array')\n",
        "\n",
        "# Or use a template to infer the shape.\n",
        "template = tf.constant([[1,2,3],[4,5,6]], dtype=tf.float32, name='template') # Has [2,3] shape\n",
        "zero_like = tf.zeros_like(template, name='zero_like')\n",
        "one_like = tf.ones_like(template, name='one_like')\n",
        "\n",
        "# Some sequence generating functions\n",
        "lin_seq = tf.linspace(start=0.0, stop=5.0, num=5, name='lin_seq')\n",
        "lin_range = tf.range(start=0, limit=7, delta=1, name='lin_range')\n",
        "\n",
        "# A random number function\n",
        "norm = tf.random.normal(shape=[5], mean=3, stddev=2.0)\n",
        "\n",
        "# Printing out\n",
        "tf.print('0 array:\\n', zero_array)\n",
        "tf.print('1 array:\\n', one_array)\n",
        "tf.print('0 inferred:\\n', zero_like)\n",
        "tf.print('1 inferred:\\n', one_like)\n",
        "tf.print('linear sequence:\\n', lin_seq)\n",
        "tf.print('range:\\n', lin_range)\n",
        "tf.print('Random normal:\\n', norm)"
      ],
      "execution_count": 9,
      "outputs": [
        {
          "output_type": "stream",
          "name": "stdout",
          "text": [
            "0 array:\n",
            " [[0 0 0]\n",
            " [0 0 0]]\n",
            "1 array:\n",
            " [[1 1 1]\n",
            " [1 1 1]]\n",
            "0 inferred:\n",
            " [[0 0 0]\n",
            " [0 0 0]]\n",
            "1 inferred:\n",
            " [[1 1 1]\n",
            " [1 1 1]]\n",
            "linear sequence:\n",
            " [0 1.25 2.5 3.75 5]\n",
            "range:\n",
            " [0 1 2 ... 4 5 6]\n",
            "Random normal:\n",
            " [3.03626633 -2.82448435 7.97759581 5.14032698 3.11214852]\n"
          ]
        }
      ]
    },
    {
      "cell_type": "markdown",
      "metadata": {
        "id": "kzQd8aDBptyJ"
      },
      "source": [
        "<p style='color:red'><strong>TODO:</strong></p>"
      ]
    },
    {
      "cell_type": "code",
      "metadata": {
        "id": "AB9Yzp_RptyJ"
      },
      "source": [
        "# 1: Generate a 3*3 matrix filled with 7s. \n",
        "# 2: Generate a sequence start from -6.0 to 7.0(inclusive), with step size of 1.0.\n",
        "# 3: Generate another 3*3 matrix with normal distribution. Choose any mean and stddev you like.\n",
        "# Hint: Visit https://www.tensorflow.org/api_guides/python/constant_op"
      ],
      "execution_count": null,
      "outputs": []
    },
    {
      "cell_type": "markdown",
      "metadata": {
        "id": "drGeb7roSw0u"
      },
      "source": [
        "<p style='color:red'><strong>SOLUTION (enter in the empty cell below):</strong></p>"
      ]
    },
    {
      "cell_type": "code",
      "metadata": {
        "colab": {
          "base_uri": "https://localhost:8080/"
        },
        "id": "3c9KcXwgSw0v",
        "outputId": "eeb9e9f0-8655-4a94-a1e5-e432fa80d831"
      },
      "source": [
        "sevens = tf.ones(shape=[3,3], dtype=tf.float32, name='sevens') * tf.constant(7.0)\n",
        "sequence = tf.linspace(start=-6.0, stop=7.0, num=14, name='sequence')\n",
        "matrix_normal = tf.random.normal(shape=[3,3], mean=0, stddev=1)\n",
        "\n",
        "tf.print('1#:\\n', sevens)\n",
        "tf.print('2#:\\n', sequence)\n",
        "tf.print('3#:\\n', matrix_normal)"
      ],
      "execution_count": 10,
      "outputs": [
        {
          "output_type": "stream",
          "name": "stdout",
          "text": [
            "1#:\n",
            " [[7 7 7]\n",
            " [7 7 7]\n",
            " [7 7 7]]\n",
            "2#:\n",
            " [-6 -5 -4 ... 5 6 7]\n",
            "3#:\n",
            " [[1.8677628 0.622526348 0.34375158]\n",
            " [0.866166711 1.22635806 -0.171588629]\n",
            " [-1.04718685 -0.460754484 -0.847285688]]\n"
          ]
        }
      ]
    },
    {
      "cell_type": "markdown",
      "metadata": {
        "id": "ap_VdFtBptyM"
      },
      "source": [
        "#### 4. Variables in TensorFlow"
      ]
    },
    {
      "cell_type": "code",
      "metadata": {
        "colab": {
          "base_uri": "https://localhost:8080/"
        },
        "id": "1tCS_YQIptyN",
        "outputId": "301d9aee-f92e-4b3f-8d60-973d7db66855"
      },
      "source": [
        "# The values of constants (previously described) can not be changed. \n",
        "# For TensorFlow variables, their values can be updated during the training of a network.\n",
        "\n",
        "initial_value = tf.Variable([2,3], dtype=tf.float32) # You need to give an initial value to the variable.\n",
        "tf.print(\"initial value:\", initial_value)\n",
        "\n",
        "# Several ops that can be used to change the value of a variable. \n",
        "# Note that they all become nodes in the graph.\n",
        "new_value = initial_value.assign([4,5])\n",
        "tf.print(\"assigned value:\", new_value)\n",
        "add = initial_value.assign_add([1,1])\n",
        "tf.print(\"add:\", add)"
      ],
      "execution_count": 11,
      "outputs": [
        {
          "output_type": "stream",
          "name": "stdout",
          "text": [
            "initial value: [2 3]\n",
            "assigned value: [4 5]\n",
            "add: [5 6]\n"
          ]
        }
      ]
    },
    {
      "cell_type": "markdown",
      "metadata": {
        "id": "DWZqSEN8ptyP"
      },
      "source": [
        "<p style='color:red'><strong>TODO:</strong></p>"
      ]
    },
    {
      "cell_type": "code",
      "metadata": {
        "id": "m9FXFIoZptyQ"
      },
      "source": [
        "# Create a 3*3 tensor variable (the initial values don't matter).\n",
        "# Assign values from 1 to 9 to it and than add 1 to each assigned value in the 3*3 tensor.\n",
        "# Print out the initial values and print out the new values after the assign operation."
      ],
      "execution_count": null,
      "outputs": []
    },
    {
      "cell_type": "markdown",
      "metadata": {
        "id": "EWF-hV1wSw02"
      },
      "source": [
        "<p style='color:red'><strong>SOLUTION (enter in the empty cell below):</strong></p>"
      ]
    },
    {
      "cell_type": "code",
      "metadata": {
        "colab": {
          "base_uri": "https://localhost:8080/"
        },
        "id": "LTa6i7k-Sw02",
        "outputId": "a9eb0879-7dff-4bc0-e654-6395bc919da1"
      },
      "source": [
        "initial_matrix = tf.Variable([[1.,1.,1.],[1.,1.,1.],[1.,1.,1.]])\n",
        "tf.print('initial:\\n', initial_matrix)\n",
        "\n",
        "changed = initial_matrix.assign([[1.,2.,3.],[4.,5.,6.],[7.,8.,9.]])\n",
        "tf.print('changed:\\n', initial_matrix)\n",
        "\n",
        "added = initial_matrix.assign_add(tf.ones(shape = initial_matrix.shape))\n",
        "\n",
        "tf.print('added:\\n', initial_matrix)"
      ],
      "execution_count": null,
      "outputs": [
        {
          "output_type": "stream",
          "name": "stdout",
          "text": [
            "initial:\n",
            " [[1 1 1]\n",
            " [1 1 1]\n",
            " [1 1 1]]\n",
            "changed:\n",
            " [[1 2 3]\n",
            " [4 5 6]\n",
            " [7 8 9]]\n",
            "added:\n",
            " [[2 3 4]\n",
            " [5 6 7]\n",
            " [8 9 10]]\n"
          ]
        }
      ]
    },
    {
      "cell_type": "markdown",
      "metadata": {
        "id": "qrPrL1vuptyX"
      },
      "source": [
        "#### 5. Data type impact"
      ]
    },
    {
      "cell_type": "code",
      "metadata": {
        "id": "i0Hi6z_PptyX",
        "colab": {
          "base_uri": "https://localhost:8080/"
        },
        "outputId": "1a17d7c3-783e-45b2-cdf1-8a54b52a460e"
      },
      "source": [
        "# In TensorFlow, the float type of data includes float32 and float64. \n",
        "# In later assignments, \n",
        "# you should always consider float32 as the first choice for sake of efficiency, \n",
        "# even though the precision is lower than for float64.\n",
        "\n",
        "# Here we compare the precision difference between these two types.\n",
        "A32 = tf.Variable([[1,2,3], [4,5,6]], dtype=tf.float32)\n",
        "B32 = (A32 + 0.2)**2\n",
        "A64 = tf.Variable([[1,2,3], [4,5,6]], dtype=tf.float64)\n",
        "B64 = (A64 + 0.2)**2\n",
        "\n",
        "tf.print('float32 result: \\n {}'.format(B32))\n",
        "tf.print('float64 result: \\n {}'.format(B64))"
      ],
      "execution_count": 12,
      "outputs": [
        {
          "output_type": "stream",
          "name": "stdout",
          "text": [
            "float32 result: \n",
            " [[ 1.44      4.84     10.240001]\n",
            " [17.639997 27.039997 38.44    ]]\n",
            "float64 result: \n",
            " [[ 1.44  4.84 10.24]\n",
            " [17.64 27.04 38.44]]\n"
          ]
        }
      ]
    },
    {
      "cell_type": "markdown",
      "metadata": {
        "id": "Uqv2PgZWu_tR"
      },
      "source": [
        "#### 6. Distance calculation"
      ]
    },
    {
      "cell_type": "markdown",
      "metadata": {
        "id": "690gKbVd5fZT"
      },
      "source": [
        "The conventional way to measure the distance between two points in a N-dimensional space is to use the Euclidean distance, which is defined as:\n",
        "Given two points p and q, the Euclidean distance between the two is given by d(p, q)\n",
        "$$\n",
        "d(p, q) = \\sqrt{\\sum_{i=1}^{n}(q_i - p_i)^2}\n",
        "$$\n",
        "In terms of Linear Algebra, the associated norm is called the Euclidean norm. The vectorized notation for the Euclidean norm of a vector x = (x_1, x_2, ... x_n) is written as:\n",
        "$$\n",
        "||x||_2 = \\sqrt{x_1^2 + ... + x_n^2}\n",
        "$$\n",
        "which is valid for the n-dimensional vector space R^n.\n",
        "Broadly speaking, the so called Euclidean norm is one of a class of Lebesgue (L-p) space norms, called L-p norms. The Euclidean norm is in fact the L-2 norm. The L-p norms are defined in similar fashion to the L-2 norm. Indeed, they are generalized from the L-2 norm as follows:\n",
        "For a real number p>=1, the p-norm/L-p norm of vector x is defined as:\n",
        "$$\n",
        "||x||_p = (|x_1|^p + |x_2|^p + ... + |x_n|^p)^{1/p}\n",
        "$$\n",
        "One can see that for p=2, we get the L-2/Euclidean norm.\n",
        "In this course, we will also encounter the L-1 norm, often called the Manhattan distance or the taxicab-metric. For a vector x = (x_1, ... x_n), the L-1 norm simplifies due to p=1 as:\n",
        "$$\n",
        "||x||_1 = |x_1| + |x_2| + ... + |x_n|\n",
        "$$\n",
        "In keeping with this notation, the L-1 distance between two vectors p and q can be therefore be written as:\n",
        "$$\n",
        "d(p, q) = ||p - q||_1 = \\sum_{i=1}^n|p_i - q_i|\n",
        "$$\n",
        "\n",
        "**NOTE**: \n",
        "The p-norms (e.g. Manhattan norm, Euclidean norm) are actually vector norms and are defined on vectors only. \n",
        "\n",
        "When you call the np.linalg.norm function on a matrix with ord=1 you are computing the matrix norm with order 1, which gives you the maximum of all the sums along the columns, and that's actually the correct norm for the matrix in theory. (in the case of the two matrices given below, this is 2)\n",
        "\n",
        "Therefore, TensorFlow is abusing the definition a little bit here. So for the purposes of the below TODO task, pretend that you are asked to compute the 1-norm of each row of the difference and add all those up (which in this case is 6)\n",
        "\n"
      ]
    },
    {
      "cell_type": "code",
      "metadata": {
        "id": "3wUaL-C3vC-1",
        "colab": {
          "base_uri": "https://localhost:8080/"
        },
        "outputId": "cb5b508a-4ec2-4716-b465-7b574da7cbb4"
      },
      "source": [
        "# Distance Calculation \n",
        "#\n",
        "# Create a tensor among the following types : float32, float64, complex64, complex128\n",
        "# Mentioned link details the meaning of each variable : https://www.tensorflow.org/api_docs/python/tf/norm\n",
        "     \n",
        "# create two tensors of shape 2x3.\n",
        "tensor_a = tf.constant([[1,2,3], [3,2,1]], dtype=tf.float32, name='template')\n",
        "tensor_b = tf.constant([[1,1,1], [1,1,1]], dtype=tf.float32, name='template')\n",
        "\n",
        "# 1. Calculating euclidean distance or the l2 norm.\n",
        "\n",
        "eucledian_distance = tf.norm(tensor_a - tensor_b, ord ='euclidean', axis=None, keepdims=None)\n",
        "tf.print(\"Euclidean distance:\", eucledian_distance)\n",
        "\n",
        "\n",
        "# 2. Calculating the Manhattan distance\n",
        "manhattan_distance = tf.norm(tensor_a - tensor_b, ord =1, axis=None, keepdims=None)\n",
        "tf.print(\"Manhattan distance:\", manhattan_distance)"
      ],
      "execution_count": 14,
      "outputs": [
        {
          "output_type": "stream",
          "name": "stdout",
          "text": [
            "Euclidean distance: 3.1622777\n",
            "Manhattan distance: 6\n"
          ]
        }
      ]
    },
    {
      "cell_type": "markdown",
      "metadata": {
        "id": "2PQdsHs-vMkO"
      },
      "source": [
        "<p style='color:red'><strong>TODO:</strong></p>"
      ]
    },
    {
      "cell_type": "code",
      "metadata": {
        "id": "GOXfmigrvJt-"
      },
      "source": [
        "# Create two funtions using numpy which will return the eucledian distance and manhattan distance\n",
        "# between the above mentioned tensors.\n",
        "# Print out their outputs."
      ],
      "execution_count": null,
      "outputs": []
    },
    {
      "cell_type": "markdown",
      "metadata": {
        "id": "eAn055uiSw1A"
      },
      "source": [
        "<p style='color:red'><strong>SOLUTION (enter in the empty cell below):</strong></p>"
      ]
    },
    {
      "cell_type": "code",
      "metadata": {
        "id": "vnZAlgFASw1A",
        "colab": {
          "base_uri": "https://localhost:8080/"
        },
        "outputId": "d3eed459-99c9-45be-8e2e-154ae41a541a"
      },
      "source": [
        "def euclidean(tensor_a, tensor_b):\n",
        "    # 𝐸𝑢𝑐𝑙𝑖𝑑𝑒𝑎𝑛𝑁𝑜𝑟𝑚\n",
        "    value = 0\n",
        "    for sub_a, sub_b in zip(tensor_a, tensor_b):\n",
        "        value += (sub_a - sub_b) ** 2 \n",
        "\n",
        "    value_final = sum(value)\n",
        "    return(tf.pow(value_final, 0.5)) \n",
        "\n",
        "\n",
        "def manhattan(tensor_a, tensor_b):\n",
        "    # 𝑀𝑎𝑛ℎ𝑎𝑡𝑡𝑎𝑛𝐷𝑖𝑠𝑡𝑎𝑛𝑐𝑒\n",
        "    value = 0\n",
        "    for sub_a, sub_b in zip(tensor_a, tensor_b):\n",
        "        value += tf.abs(sub_a - sub_b)\n",
        "    \n",
        "    value_final = sum(value)\n",
        "    return(value_final) \n",
        "\n",
        "tf.print('Euclidean Distance:', euclidean(tensor_a,tensor_b))\n",
        "tf.print('Manhattan Distance:', manhattan(tensor_a,tensor_b))"
      ],
      "execution_count": 15,
      "outputs": [
        {
          "output_type": "stream",
          "name": "stdout",
          "text": [
            "Euclidean Distance: 3.1622777\n",
            "Manhattan Distance: 6\n"
          ]
        }
      ]
    },
    {
      "cell_type": "markdown",
      "metadata": {
        "id": "sTiqq8_5wCUh"
      },
      "source": [
        "We have introduced only the basic TensorFlow operations and concepts. We recommend that you visit the TensorFlow tutorial link for many more https://www.tensorflow.org/tutorials. You will need them to be able to efficiently build and execute deep learning models."
      ]
    },
    {
      "cell_type": "markdown",
      "metadata": {
        "id": "HC0SVT8owOVP"
      },
      "source": [
        "## Part 4 - TensorFlow Demos\n",
        "Part 4 of this assignment consists of a demo. All you need to do is to run the demos and observe the results. This is meant to give you an idea of how TensorFlow is used.\n",
        "\n",
        "Please run the code and look at the outputs. We do not ask you to fully understand the model at this point. However, it would be a good practice if you searched [www.tensorflow.org](https://www.tensorflow.org) to examine the functions which are used in the code. They will be really helpful when you start programming by yourself."
      ]
    },
    {
      "cell_type": "markdown",
      "metadata": {
        "id": "UtBIkiexwTPz"
      },
      "source": [
        "### Demo1: Multiclass Logistic Regression\n",
        "#### Loading and preparing the MNIST dataset"
      ]
    },
    {
      "cell_type": "code",
      "metadata": {
        "id": "l215pkxyeLJo",
        "colab": {
          "base_uri": "https://localhost:8080/"
        },
        "outputId": "5f96bf4c-d1a9-4dc2-dd77-b1998de0d1dc"
      },
      "source": [
        "# Multi-class Logistic Regression\n",
        "\n",
        "from tensorflow.keras.datasets import mnist\n",
        "\n",
        "(x_train, y_train), (x_test, y_test) = mnist.load_data()\n",
        "\n",
        "# Convert to float32.\n",
        "\n",
        "x_train, x_test = np.array(x_train, np.float32), np.array(x_test, np.float32)\n",
        "\n",
        "# Flatten images to 1-D vector of 784 features (28*28).\n",
        "num_features = 784 \n",
        "x_train, x_test = x_train.reshape([-1, num_features]), x_test.reshape([-1, num_features])\n",
        "\n",
        "# Normalize images value from [0, 255] to [0, 1].\n",
        "\n",
        "x_train, x_test = x_train / 255., x_test / 255. \n",
        "print(\"Cell executed. Move to the next cell\")"
      ],
      "execution_count": 16,
      "outputs": [
        {
          "output_type": "stream",
          "name": "stdout",
          "text": [
            "Downloading data from https://storage.googleapis.com/tensorflow/tf-keras-datasets/mnist.npz\n",
            "11493376/11490434 [==============================] - 0s 0us/step\n",
            "11501568/11490434 [==============================] - 0s 0us/step\n",
            "Cell executed. Move to the next cell\n"
          ]
        }
      ]
    },
    {
      "cell_type": "markdown",
      "metadata": {
        "id": "rqE8eRYPSw1D"
      },
      "source": [
        "#### Setting up hyperparameters and dataset parameters"
      ]
    },
    {
      "cell_type": "code",
      "metadata": {
        "id": "DGiHxRa-Sw1E",
        "colab": {
          "base_uri": "https://localhost:8080/"
        },
        "outputId": "7ab61b5d-02a4-45fa-93c2-278ff088f004"
      },
      "source": [
        "# MNIST dataset parameters.\n",
        "\n",
        "num_classes = 10 # 0 to 9 digits\n",
        "num_features = 784 # 28*28\n",
        "\n",
        "# Training parameters.\n",
        "\n",
        "learning_rate = 0.01\n",
        "training_steps = 1000\n",
        "batch_size = 256\n",
        "display_step = 50\n",
        "print(\"Cell executed. Move to the next cell\")"
      ],
      "execution_count": 17,
      "outputs": [
        {
          "output_type": "stream",
          "name": "stdout",
          "text": [
            "Cell executed. Move to the next cell\n"
          ]
        }
      ]
    },
    {
      "cell_type": "markdown",
      "metadata": {
        "id": "TdS7dXufSw1F"
      },
      "source": [
        "#### Shuffling and Batching the data"
      ]
    },
    {
      "cell_type": "code",
      "metadata": {
        "id": "bFYK4LijSw1G",
        "colab": {
          "base_uri": "https://localhost:8080/"
        },
        "outputId": "b1031101-5b77-479a-b613-8758887917d8"
      },
      "source": [
        "# Using tf.data API to shuffle and batch data.\n",
        "\n",
        "train_data=tf.data.Dataset.from_tensor_slices((x_train,y_train))\n",
        "\n",
        "train_data=train_data.repeat().shuffle(5000).batch(batch_size).prefetch(1)\n",
        "print(\"Cell executed. Move to the next cell\")"
      ],
      "execution_count": 18,
      "outputs": [
        {
          "output_type": "stream",
          "name": "stdout",
          "text": [
            "Cell executed. Move to the next cell\n"
          ]
        }
      ]
    },
    {
      "cell_type": "markdown",
      "metadata": {
        "id": "nlczIrIGSw1I"
      },
      "source": [
        "#### Initializing weights and biases"
      ]
    },
    {
      "cell_type": "code",
      "metadata": {
        "id": "CRj1SLvzSw1I",
        "colab": {
          "base_uri": "https://localhost:8080/"
        },
        "outputId": "6909d3f8-c72f-404a-e0f5-8c753a79313a"
      },
      "source": [
        "# Weight of shape [784, 10], the 28*28 image features, and a total number of classes.\n",
        "W = tf.Variable(tf.ones([num_features, num_classes]), name=\"weight\")\n",
        "\n",
        "# Bias of shape [10], the total number of classes.\n",
        "b = tf.Variable(tf.zeros([num_classes]), name=\"bias\")\n",
        "print(\"Cell executed. Move to the next cell\")"
      ],
      "execution_count": 19,
      "outputs": [
        {
          "output_type": "stream",
          "name": "stdout",
          "text": [
            "Cell executed. Move to the next cell\n"
          ]
        }
      ]
    },
    {
      "cell_type": "markdown",
      "metadata": {
        "id": "bsi9KCsYSw1K"
      },
      "source": [
        "#### Defining Logisitic Regression and Cost function"
      ]
    },
    {
      "cell_type": "code",
      "metadata": {
        "id": "BaOKjAZoSw1K",
        "colab": {
          "base_uri": "https://localhost:8080/"
        },
        "outputId": "11912b40-b057-40d2-c895-aecb918dc29e"
      },
      "source": [
        "# Logistic regression (Wx + b).\n",
        "def logistic_regression(x):\n",
        "    # Apply softmax to normalize the logits to a probability distribution.\n",
        "    return tf.nn.softmax(tf.matmul(x, W) + b)\n",
        "\n",
        "# Cross-Entropy loss function.\n",
        "def cross_entropy(y_pred, y_true):\n",
        "    # Encode label to a one hot vector.\n",
        "    y_true = tf.one_hot(y_true, depth=num_classes)\n",
        "\n",
        "    # Clip prediction values to avoid log(0) error.\n",
        "    y_pred = tf.clip_by_value(y_pred, 1e-9, 1.)\n",
        "\n",
        "    # Compute cross-entropy.\n",
        "    return tf.reduce_mean(-tf.reduce_sum(y_true * tf.math.log(y_pred), axis=1))\n",
        "\n",
        "print(\"Cell executed. Move to the next cell\")"
      ],
      "execution_count": 20,
      "outputs": [
        {
          "output_type": "stream",
          "name": "stdout",
          "text": [
            "Cell executed. Move to the next cell\n"
          ]
        }
      ]
    },
    {
      "cell_type": "markdown",
      "metadata": {
        "id": "Wa53EQ-OSw1L"
      },
      "source": [
        "#### Defining Optimizers and Accuracy Metrics"
      ]
    },
    {
      "cell_type": "code",
      "metadata": {
        "id": "tcgF_CtpSw1M",
        "colab": {
          "base_uri": "https://localhost:8080/"
        },
        "outputId": "c21969cc-e381-4c26-ccc3-c0a1bbd896d2"
      },
      "source": [
        "# Accuracy metric.\n",
        "def accuracy(y_pred, y_true):\n",
        "    # Predicted class is the index of the highest score in prediction vector (i.e. argmax).\n",
        "\n",
        "    correct_prediction = tf.equal(tf.argmax(y_pred, 1), tf.cast(y_true, tf.int64))\n",
        "\n",
        "    return tf.reduce_mean(tf.cast(correct_prediction, tf.float32))\n",
        "\n",
        "# Stochastic gradient descent optimizer.\n",
        "optimizer = tf.optimizers.SGD(learning_rate)\n",
        "print(\"Cell executed. Move to the next cell\")"
      ],
      "execution_count": 21,
      "outputs": [
        {
          "output_type": "stream",
          "name": "stdout",
          "text": [
            "Cell executed. Move to the next cell\n"
          ]
        }
      ]
    },
    {
      "cell_type": "markdown",
      "metadata": {
        "id": "ph2IWd6YSw1N"
      },
      "source": [
        "#### Optimization process and Updating Weights and Biases"
      ]
    },
    {
      "cell_type": "code",
      "metadata": {
        "id": "I-Zs0aACSw1O",
        "colab": {
          "base_uri": "https://localhost:8080/"
        },
        "outputId": "54c34c23-5a78-4e80-9a9a-da7bb744d397"
      },
      "source": [
        "# Optimization process. \n",
        "\n",
        "def run_optimization(x, y):\n",
        "    # Wrap computation inside a GradientTape for automatic differentiation.\n",
        "    with tf.GradientTape() as g:\n",
        "        pred = logistic_regression(x)\n",
        "        loss = cross_entropy(pred, y)\n",
        "    # Compute gradients.\n",
        "    gradients = g.gradient(loss, [W, b])\n",
        "\n",
        "    # Update W and b following gradients.\n",
        "    optimizer.apply_gradients(zip(gradients, [W, b]))\n",
        "    \n",
        "    \n",
        "# printf\n",
        "print(\"Cell executed. Move to the next cell\")\n"
      ],
      "execution_count": 22,
      "outputs": [
        {
          "output_type": "stream",
          "name": "stdout",
          "text": [
            "Cell executed. Move to the next cell\n"
          ]
        }
      ]
    },
    {
      "cell_type": "markdown",
      "metadata": {
        "id": "XAlXhsl0Sw1P"
      },
      "source": [
        "#### Training loop"
      ]
    },
    {
      "cell_type": "code",
      "metadata": {
        "id": "bPtoLWX4Sw1P",
        "colab": {
          "base_uri": "https://localhost:8080/"
        },
        "outputId": "08eaab55-9222-47af-b58b-769e9f0f9ced"
      },
      "source": [
        "# Run training for the given number of steps.\n",
        "\n",
        "print(\"This cell should run and show output for 1000 steps. Running ...\")\n",
        "\n",
        "for step, (batch_x, batch_y) in enumerate(train_data.take(training_steps), 1):\n",
        "    # Run the optimization to update W and b values.\n",
        "    run_optimization(batch_x, batch_y)\n",
        "    if step % display_step == 0:\n",
        "        pred = logistic_regression(batch_x)\n",
        "        loss = cross_entropy(pred, batch_y)\n",
        "        acc = accuracy(pred, batch_y)\n",
        "        print(\"step: %i, loss: %f, accuracy: %f\" % (step, loss, acc))\n",
        "        \n",
        "print(\"Cell executed. Move to the next cell\")"
      ],
      "execution_count": 23,
      "outputs": [
        {
          "output_type": "stream",
          "name": "stdout",
          "text": [
            "This cell should run and show output for 1000 steps. Running ...\n",
            "step: 50, loss: 1.878072, accuracy: 0.742188\n",
            "step: 100, loss: 1.561715, accuracy: 0.753906\n",
            "step: 150, loss: 1.376316, accuracy: 0.800781\n",
            "step: 200, loss: 1.181496, accuracy: 0.765625\n",
            "step: 250, loss: 1.086980, accuracy: 0.800781\n",
            "step: 300, loss: 0.907447, accuracy: 0.875000\n",
            "step: 350, loss: 0.983049, accuracy: 0.851562\n",
            "step: 400, loss: 0.884333, accuracy: 0.843750\n",
            "step: 450, loss: 0.775031, accuracy: 0.851562\n",
            "step: 500, loss: 0.724497, accuracy: 0.867188\n",
            "step: 550, loss: 0.696750, accuracy: 0.875000\n",
            "step: 600, loss: 0.782712, accuracy: 0.867188\n",
            "step: 650, loss: 0.835194, accuracy: 0.800781\n",
            "step: 700, loss: 0.612718, accuracy: 0.902344\n",
            "step: 750, loss: 0.647120, accuracy: 0.875000\n",
            "step: 800, loss: 0.663133, accuracy: 0.847656\n",
            "step: 850, loss: 0.706260, accuracy: 0.835938\n",
            "step: 900, loss: 0.635735, accuracy: 0.871094\n",
            "step: 950, loss: 0.567130, accuracy: 0.875000\n",
            "step: 1000, loss: 0.636147, accuracy: 0.832031\n",
            "Cell executed. Move to the next cell\n"
          ]
        }
      ]
    },
    {
      "cell_type": "markdown",
      "metadata": {
        "id": "AJ3nnz3ySw1R"
      },
      "source": [
        "#### Testing model accuracy using the testing data"
      ]
    },
    {
      "cell_type": "code",
      "metadata": {
        "id": "HfNo8-FaSw1R",
        "colab": {
          "base_uri": "https://localhost:8080/"
        },
        "outputId": "f27f78a5-6820-4d98-fe09-c6a2e5be71fa"
      },
      "source": [
        "# Test model on validation set.\n",
        "pred = logistic_regression(x_test)\n",
        "print(\"Test Accuracy: %f\" % accuracy(pred, y_test))"
      ],
      "execution_count": 24,
      "outputs": [
        {
          "output_type": "stream",
          "name": "stdout",
          "text": [
            "Test Accuracy: 0.869800\n"
          ]
        }
      ]
    },
    {
      "cell_type": "markdown",
      "metadata": {
        "id": "yw34fVUVweHt"
      },
      "source": [
        "## Part 5 - Organizing the Code for Development of Deep Leaning Models\n",
        "This assignment was distributed as a collection of directories and files (either through the github/bitbucket or a collection of files in a *.zip package).\n",
        "The organization of directories and files is described in the corresponding README file, and illustrated below as well:\n",
        "<p style='color:red'><strong>TODO Study the organization of directories and files for this assignment</strong></p>\n",
        " - In particular examine the way in which Jupyter notebook files and utility python files are distributed accross directories. Students will be required to follow this (or very similar) directory structure for their assignments and projects. For every project/assignment, a similar tree structure needs to be generated and appended to the README.md file.\n",
        "\n",
        "A typical organization of the top directory can be seen at the end of the README.md file."
      ]
    },
    {
      "cell_type": "markdown",
      "metadata": {
        "id": "ZHZ-42frSw1T"
      },
      "source": [
        "### Steps to create and visualize the tree-like directory structure:\n",
        "<p style='color:red'><strong>1. For Linux:</strong></p>\n",
        "\n",
        "a. Go to the directory for which you want to create and visualize the tree structure for.\n",
        "\n",
        "b. Type : !tree ./ >> README.md in the jupyter notebook - This will append the tree to the README.md file in the same directory.\n",
        "\n",
        "c.  After running the above command make the following changes:\n",
        "\n",
        "- Go to the README.md and remove the below mentioned lines \n",
        "\"Folder PATH listing for volume DATA\n",
        "Volume serial number is 0A8A-1CBE\n",
        "D:\\CA_4040\\MASTER_BRANCH\\E4040-2020FALL-ASSIGNMENTSALL-INSTRUCTORVERSION\\ASSIGNMENT0.SOLUTION\"\n",
        "\n",
        "- then, manually enclose the whole appended text in 3 single quotes (inverted quote ```) at the top and the bottom with the same indentation. (Look at the the example mentioned below)\n",
        " \n",
        "<p style='color:red'><strong>2. For Windows:</strong></p>\n",
        "\n",
        "a. Go to the directory that you want the tree structure for.\n",
        "\n",
        "b. Type : !tree ./ /f /a >> README.md in the jupyter notebook - This will append the tree to the README.md file in the same directory.\n",
        "\n",
        "c.  After running the above command make below mentioned changes:\n",
        "\n",
        "- Go to the README.md and remove the below mentioned lines \n",
        "\"Folder PATH listing for volume DATA\n",
        "Volume serial number is 0A8A-1CBE\n",
        "D:\\CA_4040\\MASTER_BRANCH\\E4040-2020FALL-ASSIGNMENTSALL-INSTRUCTORVERSION\\ASSIGNMENT0.SOLUTION\"\n",
        "\n",
        "- Then, manually enclose the whole appended text within 3 single quotes (inverted quote ```) at the top and the bottom with the same indentation. (Look at the the example mentioned below)\n",
        "\n",
        "d. NOTE:The two chevrons >> are used to append the output of a command to the bottom of a file (instead of one chevron which overwrites the file).\n"
      ]
    },
    {
      "cell_type": "markdown",
      "metadata": {
        "id": "5Klm1x5fSw1T"
      },
      "source": [
        "## Submission of the Assignment\n",
        "The method of the submission and the naming are described in the README.md file, distributed in Github. For formal submission, additional instructions will be provided a few days before the assignment is due."
      ]
    },
    {
      "cell_type": "markdown",
      "metadata": {
        "id": "N6y2_8vww0oN"
      },
      "source": [
        "## End of the assignment"
      ]
    },
    {
      "cell_type": "code",
      "metadata": {
        "id": "4ElYL95rLPBP",
        "colab": {
          "base_uri": "https://localhost:8080/"
        },
        "outputId": "d818dead-b5cd-408a-d905-6514dcd5f097"
      },
      "source": [
        "!sudo apt-get install tree\n",
        "!tree ./ >> README.md"
      ],
      "execution_count": null,
      "outputs": [
        {
          "output_type": "stream",
          "name": "stdout",
          "text": [
            "Reading package lists... Done\n",
            "Building dependency tree       \n",
            "Reading state information... Done\n",
            "The following NEW packages will be installed:\n",
            "  tree\n",
            "0 upgraded, 1 newly installed, 0 to remove and 37 not upgraded.\n",
            "Need to get 40.7 kB of archives.\n",
            "After this operation, 105 kB of additional disk space will be used.\n",
            "Get:1 http://archive.ubuntu.com/ubuntu bionic/universe amd64 tree amd64 1.7.0-5 [40.7 kB]\n",
            "Fetched 40.7 kB in 0s (96.3 kB/s)\n",
            "debconf: unable to initialize frontend: Dialog\n",
            "debconf: (No usable dialog-like program is installed, so the dialog based frontend cannot be used. at /usr/share/perl5/Debconf/FrontEnd/Dialog.pm line 76, <> line 1.)\n",
            "debconf: falling back to frontend: Readline\n",
            "debconf: unable to initialize frontend: Readline\n",
            "debconf: (This frontend requires a controlling tty.)\n",
            "debconf: falling back to frontend: Teletype\n",
            "dpkg-preconfigure: unable to re-open stdin: \n",
            "Selecting previously unselected package tree.\n",
            "(Reading database ... 155013 files and directories currently installed.)\n",
            "Preparing to unpack .../tree_1.7.0-5_amd64.deb ...\n",
            "Unpacking tree (1.7.0-5) ...\n",
            "Setting up tree (1.7.0-5) ...\n",
            "Processing triggers for man-db (2.8.3-2ubuntu0.1) ...\n"
          ]
        }
      ]
    }
  ]
}